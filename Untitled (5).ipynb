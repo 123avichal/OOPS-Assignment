{
 "cells": [
  {
   "cell_type": "code",
   "execution_count": 48,
   "id": "e6696750-9fe2-4246-84ee-f9da00cda031",
   "metadata": {},
   "outputs": [],
   "source": [
    "#1. What is a constructor in Python? Explain its purpose and usage."
   ]
  },
  {
   "cell_type": "markdown",
   "id": "5aa491bf-f7bd-468f-95ba-f8ca3f9e832d",
   "metadata": {},
   "source": [
    "A constructor in Python is a special method that is called when an object is created. It is used to initialize the object's data members. The constructor's name is always the same as the class name.\n",
    "For example, the following code defines a class called Car with a constructor that initializes the object's make and model data members\n",
    "class Car:\n",
    "\n",
    "    def __init__(self, make, model):\n",
    "        self.make = make\n",
    "        self.model = model"
   ]
  },
  {
   "cell_type": "code",
   "execution_count": 49,
   "id": "bfb116a1-7cb6-40bd-9788-66982858f03e",
   "metadata": {},
   "outputs": [],
   "source": [
    "# 2. Differentiate between a parameterless constructor and a parameterized constructor in Python."
   ]
  },
  {
   "cell_type": "markdown",
   "id": "5158c09a-7eb4-4c32-aec5-09ec446f6b87",
   "metadata": {},
   "source": [
    "A parameterless constructor is a constructor that does not take any arguments. It is used to create an object with default values for its attributes. A parameterized constructor is a constructor that takes one or more arguments. It is used to create an object with custom values for its attributes."
   ]
  },
  {
   "cell_type": "code",
   "execution_count": 50,
   "id": "6b75ed3a-1001-40ed-960f-87bfbbec9f4a",
   "metadata": {},
   "outputs": [],
   "source": [
    "# 3. How do you define a constructor in a Python class? Provide an example."
   ]
  },
  {
   "cell_type": "markdown",
   "id": "0ab0229d-3f3f-41e6-a3f6-b618cf8669de",
   "metadata": {},
   "source": [
    "In Python, the constructor is a special method that is called when an object is created. It is used to initialize the object's attributes. The name of the constructor is always __init__.\n",
    "To define a constructor in a Python class, you need to use the __init__ method. The __init__ method takes two arguments: the first argument is always self, which refers to the current object, and the second argument is a dictionary of keyword arguments.\n"
   ]
  },
  {
   "cell_type": "code",
   "execution_count": 51,
   "id": "5c2c039d-6a96-41d3-8b68-9aede4d8b97f",
   "metadata": {},
   "outputs": [],
   "source": [
    "# 4. Explain the `__init__` method in Python and its role in constructors."
   ]
  },
  {
   "cell_type": "markdown",
   "id": "4cdf4dcc-fc92-4be4-9bca-2a01d545d962",
   "metadata": {},
   "source": [
    "The __init__ method in Python is a special method that is called when an object is created from a class. It is known as the constructor in object-oriented programming. The __init__ method allows you to initialize the attributes (variables) of an object."
   ]
  },
  {
   "cell_type": "code",
   "execution_count": 52,
   "id": "0cc838ad-0f7a-4c70-9942-ca00fff866e5",
   "metadata": {},
   "outputs": [],
   "source": [
    "# 5. In a class named `Person`, create a constructor that initializes the `name` and `age` attributes. Provide an\n",
    "# example of creating an object of this class."
   ]
  },
  {
   "cell_type": "code",
   "execution_count": 53,
   "id": "00327c1d-e8f3-42ef-a277-8bc6f55b44c8",
   "metadata": {},
   "outputs": [],
   "source": [
    "class person:\n",
    "    def  __init__(self,name ,age):\n",
    "        self.name=name\n",
    "        self.age=age"
   ]
  },
  {
   "cell_type": "code",
   "execution_count": 54,
   "id": "f0837eaf-4a8e-41ce-9952-71e7491bf497",
   "metadata": {},
   "outputs": [
    {
     "data": {
      "text/plain": [
       "'avichal'"
      ]
     },
     "execution_count": 54,
     "metadata": {},
     "output_type": "execute_result"
    }
   ],
   "source": [
    "a=person('avichal',67)\n",
    "a.age\n",
    "a.name"
   ]
  },
  {
   "cell_type": "code",
   "execution_count": 55,
   "id": "eff95bcf-e042-4f06-9639-226b5f8aad64",
   "metadata": {},
   "outputs": [],
   "source": [
    "# 6. How can you call a constructor explicitly in Python? Give an example."
   ]
  },
  {
   "cell_type": "markdown",
   "id": "84613513-8cdb-4ef4-9408-34947c840e21",
   "metadata": {},
   "source": [
    "You can call a constructor explicitly in Python by using the super() function. The super() function takes the class of the object you want to create as its first argument, and the object itself as its second argument. For example, the following code creates a new object of the Person class and calls its constructor explicitly:"
   ]
  },
  {
   "cell_type": "code",
   "execution_count": 56,
   "id": "b5c004c9-d207-4985-b230-79784fad5170",
   "metadata": {},
   "outputs": [],
   "source": [
    " # 7. What is the significance of the `self` parameter in Python constructors? Explain with an example."
   ]
  },
  {
   "cell_type": "markdown",
   "id": "dc46bc8a-dd15-4f61-83f7-d3c9b1154679",
   "metadata": {},
   "source": [
    "The self parameter in Python constructors is a reference to the current object being created. It is used to access and set the attributes of the object.\n",
    "\n",
    "class MyClass:\n",
    "\n",
    "    def __init__(self, name):\n",
    "        self.name = name\n",
    "\n",
    "    def get_name(self):\n",
    "        return self.name"
   ]
  },
  {
   "cell_type": "code",
   "execution_count": 57,
   "id": "774b3478-21fb-41ee-ba4e-b4f1c9159df5",
   "metadata": {},
   "outputs": [],
   "source": [
    "# 8. Discuss the concept of default constructors in Python. When are they used?"
   ]
  },
  {
   "cell_type": "markdown",
   "id": "4f2c59d3-aed9-4405-bade-4f1d91dd06a4",
   "metadata": {},
   "source": [
    "In Python, there are two types of constructors: Default Constructor: A default constructor is a constructor that takes no arguments. It is used to create an object with default values for its attributes. Parameterized Constructor: A parameterized constructor is a constructor that takes one or more arguments"
   ]
  },
  {
   "cell_type": "code",
   "execution_count": 58,
   "id": "5a6979a1-1fad-4567-b9a1-34863a198b85",
   "metadata": {},
   "outputs": [],
   "source": [
    " # 9. Create a Python class called `Rectangle` with a constructor that initializes the `width` and `height`"
   ]
  },
  {
   "cell_type": "code",
   "execution_count": 59,
   "id": "70c82ba0-bd8e-4f24-9ca3-b7dc48ce26eb",
   "metadata": {},
   "outputs": [],
   "source": [
    "class Rectangle:\n",
    "    def __init__(self, width, height):\n",
    "        self.width = width\n",
    "        self.height = height\n",
    "\n",
    "    def get_area(self):\n",
    "        return self.width * self.height\n",
    "\n",
    "    def get_perimeter(self):\n",
    "        return 2 * (self.width + self.height)\n",
    "\n",
    "    def __str__(self):\n",
    "        return f\"Rectangle(width={self.width}, height={self.height})\"\n"
   ]
  },
  {
   "cell_type": "code",
   "execution_count": 60,
   "id": "a700fd9e-27ab-4d1e-a1fb-fbd6bc0bcb1c",
   "metadata": {},
   "outputs": [],
   "source": [
    " # 10. How can you have multiple constructors in a Python class? Explain with an example."
   ]
  },
  {
   "cell_type": "markdown",
   "id": "e0754bd2-aa2b-426e-b01f-2f419b2b5e41",
   "metadata": {},
   "source": [
    "You can have more than one constructor in a single Python class. This is known as “method overloading”. To do this, you will need to use the same method name (in this case, the name of the method will be the same as the name of the class) but define the method with different numbers or types of arguments."
   ]
  },
  {
   "cell_type": "code",
   "execution_count": 61,
   "id": "369c4374-e9a5-4052-ae92-40e39453ebd3",
   "metadata": {},
   "outputs": [],
   "source": [
    "# 11. What is method overloading, and how is it related to constructors in Python?"
   ]
  },
  {
   "cell_type": "markdown",
   "id": "ef5fff71-d74b-4509-9d1c-1202dcbc75d7",
   "metadata": {},
   "source": [
    "Method overloading is a feature in object-oriented programming that allows for methods with the same name to be defined in a class, as long as they have different signatures. This means that the methods can have different numbers of parameters, or different types of parameters.\n",
    "Method overloading can be used in Python to create constructors that take different parameters. For example, a class might have a constructor that takes two numbers as parameters, and another constructor that takes a string and a number as parameters."
   ]
  },
  {
   "cell_type": "code",
   "execution_count": 62,
   "id": "aa5e8a12-9bbe-4d28-8987-00e627baa0b7",
   "metadata": {},
   "outputs": [],
   "source": [
    "# 12. Explain the use of the `super()` function in Python constructors. Provide an example."
   ]
  },
  {
   "cell_type": "code",
   "execution_count": 63,
   "id": "84891eff-ff4b-4ac5-85f4-565fc97921be",
   "metadata": {},
   "outputs": [],
   "source": [
    "class Animal:\n",
    "    def __init__(self, name):\n",
    "        self.name = name\n",
    "\n",
    "class Dog(Animal):\n",
    "    def __init__(self, name, age):\n",
    "        super().__init__(name)\n",
    "        self.age = age"
   ]
  },
  {
   "cell_type": "code",
   "execution_count": 64,
   "id": "6ca80baf-6822-43ac-acbb-5f1b558aa72b",
   "metadata": {},
   "outputs": [],
   "source": [
    " # 13. Create a class called `Book` with a constructor that initializes the `title`, `author`, and `published_year`\n",
    " #attributes. Provide a method to display book details."
   ]
  },
  {
   "cell_type": "code",
   "execution_count": 65,
   "id": "7061b4bb-3808-4e14-b42d-b72f68cb9236",
   "metadata": {},
   "outputs": [
    {
     "data": {
      "text/plain": [
       "('the supher', 'leonardo tha venci', 1834)"
      ]
     },
     "execution_count": 65,
     "metadata": {},
     "output_type": "execute_result"
    }
   ],
   "source": [
    "class book:\n",
    "    def __init__(self,title,author,published_year):\n",
    "        self.title=title\n",
    "        self.author=author\n",
    "        self.published_year=published_year\n",
    "        \n",
    "    def details(self):\n",
    "        return self.title,self.author,self.published_year\n",
    "        \n",
    "        \n",
    "a = book('the supher', 'leonardo tha venci',1834)\n",
    "a.details()\n"
   ]
  },
  {
   "cell_type": "code",
   "execution_count": 66,
   "id": "f75aa0b0-eec2-44db-a0d5-5e6544423301",
   "metadata": {},
   "outputs": [],
   "source": [
    "# 14. Discuss the differences between constructors and regular methods in Python classes."
   ]
  },
  {
   "cell_type": "markdown",
   "id": "ba6cdb38-d305-4260-acb6-749cc72595bf",
   "metadata": {},
   "source": [
    "Constructors must have the same name as the class they are associated with, while regular methods can have any name.\n",
    "Constructors cannot have a return type, while regular methods can return any value.\n",
    "Constructors are called automatically when an object is created, while regular methods must be called explicitly.\n",
    "Constructors are typically used to initialize object variables, while regular methods are used to perform operations on those variables."
   ]
  },
  {
   "cell_type": "code",
   "execution_count": 67,
   "id": "76c315ac-8ae8-4b04-9556-99a64718ceea",
   "metadata": {},
   "outputs": [],
   "source": [
    "# 15. Explain the role of the `self` parameter in instance variable initialization within a constructor."
   ]
  },
  {
   "cell_type": "markdown",
   "id": "862a9e4c-8241-49b9-b433-fbc4e78b02a9",
   "metadata": {},
   "source": [
    "The self parameter is a reference to the current instance of the class, and is used to access variables that belong to the class.\n",
    "In Python, when you create a new object, you are actually creating a new instance of a class. This instance has its own set of variables, which are called instance variables. Instance variables are unique to each instance of a class, and they are not shared between instances."
   ]
  },
  {
   "cell_type": "code",
   "execution_count": 68,
   "id": "f4c5caef-0f0c-4742-9d36-ff3b69732a15",
   "metadata": {},
   "outputs": [],
   "source": [
    "# 16. How do you prevent a class from having multiple instances by using constructors in Python? Provide an example."
   ]
  },
  {
   "cell_type": "markdown",
   "id": "51c93cb3-6bd5-4a69-b413-cd0859cf5085",
   "metadata": {},
   "source": [
    "You can't prevent a class from having multiple instances by using constructors in Python. Constructors are used to initialize the state of an object when it is created, and they cannot be used to prevent the creation of additional objects.\n",
    "If you want to prevent a class from having multiple instances, you can use the __new__ method. This method is called when a new object is being created, and it can be used to control the creation of the object. For example, you could use the __new__ method to raise an exception if someone tries to create a new instance of the class."
   ]
  },
  {
   "cell_type": "code",
   "execution_count": 69,
   "id": "da9d8f7e-6a45-41b2-94f8-be0daf98adfd",
   "metadata": {},
   "outputs": [],
   "source": [
    " # 17. Create a Python class called `Student` with a constructor that takes a list of subjects as a parameter and initializes the `subjects` attribute."
   ]
  },
  {
   "cell_type": "code",
   "execution_count": 70,
   "id": "3679014a-6617-4174-81cd-a2b92a42809f",
   "metadata": {},
   "outputs": [
    {
     "name": "stdout",
     "output_type": "stream",
     "text": [
      "['math', 'science', 'english']\n"
     ]
    }
   ],
   "source": [
    "class Student:\n",
    "    def __init__(self, subjects):\n",
    "        self.subjects = subjects\n",
    "    def details(self):\n",
    "        return self.subjects\n",
    "student = Student([\"math\", \"science\", \"english\"])\n",
    "print(student.details())"
   ]
  },
  {
   "cell_type": "code",
   "execution_count": 71,
   "id": "93060505-410e-44c1-b06b-dcea5e45a158",
   "metadata": {},
   "outputs": [],
   "source": [
    " # 18. What is the purpose of the `__del__` method in Python classes, and how does it relate to constructors?"
   ]
  },
  {
   "cell_type": "markdown",
   "id": "f77bb332-1c62-47cf-9128-0c835045e0e5",
   "metadata": {},
   "source": [
    "In Python, the __del__() method is referred to as a destructor method. It is called after an object's garbage collection occurs, which happens after all references to the item have been destroyed. Student table created. Destructor called, Student table deleted."
   ]
  },
  {
   "cell_type": "code",
   "execution_count": 72,
   "id": "b50c29e3-8a94-44e3-b1a4-9a345e03ab7c",
   "metadata": {},
   "outputs": [],
   "source": [
    "# 19. Explain the use of constructor chaining in Python. Provide a practical example."
   ]
  },
  {
   "cell_type": "code",
   "execution_count": 73,
   "id": "4ac646cb-39fc-4861-a6d8-32a8ac765a98",
   "metadata": {},
   "outputs": [],
   "source": [
    "# In Python, constructor chaining is the process of calling one constructor from another constructor. This is useful when you want to initialize multiple # # # #constructors, one after another, by initializing only one instance. Constructor chaining is also convenient when you are dealing with inheritance.\n",
    "\n",
    "class Parent:\n",
    "    def __init__(self):\n",
    "        print(\"This is the parent constructor\")\n",
    "\n",
    "class Child(Parent):\n",
    "    def __init__(self):\n",
    "        super().__init__()\n",
    "        print(\"This is the child constructor\")"
   ]
  },
  {
   "cell_type": "code",
   "execution_count": 74,
   "id": "e1312f93-93af-40c5-b909-5d66eda30027",
   "metadata": {},
   "outputs": [],
   "source": [
    "# 20. Create a Python class called `Car` with a default constructor that initializes the `make` and `model`\n",
    "# attributes. Provide a method to display car information."
   ]
  },
  {
   "cell_type": "code",
   "execution_count": 75,
   "id": "fd8e2b8c-4701-4658-ae11-0ac735b121a0",
   "metadata": {},
   "outputs": [
    {
     "name": "stdout",
     "output_type": "stream",
     "text": [
      "Car make: Honda\n",
      "Car model: Accord\n"
     ]
    }
   ],
   "source": [
    "class Car:\n",
    "    def __init__(self, make, model):\n",
    "        self.make = make\n",
    "        self.model = model\n",
    "\n",
    "    def display_car_info(self):\n",
    "        print(\"Car make:\", self.make)\n",
    "        print(\"Car model:\", self.model)\n",
    "\n",
    "\n",
    "\n",
    "car = Car(\"Honda\", \"Accord\")\n",
    "\n",
    "car.display_car_info()"
   ]
  },
  {
   "cell_type": "code",
   "execution_count": null,
   "id": "dd765557-910a-4fda-bd20-53a4b457902e",
   "metadata": {},
   "outputs": [],
   "source": []
  },
  {
   "cell_type": "code",
   "execution_count": 112,
   "id": "8af687b5-dac9-45bb-bffe-ab0b568b04b2",
   "metadata": {},
   "outputs": [],
   "source": [
    "# 1. What is inheritance in Python? Explain its significance in object-oriented programming."
   ]
  },
  {
   "cell_type": "markdown",
   "id": "257848b7-da07-4f7e-9f5e-2c45b65c879c",
   "metadata": {},
   "source": [
    "Inheritance in Python is a feature that allows you to create new classes that share attributes and methods with existing classes. This can be useful for reusing code and creating more complex object models.\n",
    "For example, let's say you have a class called Animal that has attributes like name and age and methods like eat() and sleep(). You could then create a new class called Dog that inherits from Animal. This would mean that Dog objects would have all the same attributes and methods as Animal objects, plus any additional attributes and methods that you define for Dog.\n",
    "Inheritance is a powerful feature that can be used to create more complex and reusable object models. It is one of the key features of object-oriented programming and is used in many popular programming languages, including Python."
   ]
  },
  {
   "cell_type": "code",
   "execution_count": 113,
   "id": "16d9f73b-48a6-4043-bd13-7fb45cc7a8d3",
   "metadata": {},
   "outputs": [],
   "source": [
    "# 2. Differentiate between single inheritance and multiple inheritance in Python. Provide examples for each. "
   ]
  },
  {
   "cell_type": "code",
   "execution_count": 114,
   "id": "6c5dc531-bfc6-4590-b008-4e66c63b4adb",
   "metadata": {},
   "outputs": [
    {
     "name": "stdout",
     "output_type": "stream",
     "text": [
      "I'm an animal!\n",
      "I'm a dog!\n",
      "I'm a mammal!\n",
      "I'm a dog!\n"
     ]
    }
   ],
   "source": [
    "## The main difference between single inheritance and multiple inheritance is the number of parent classes that a child class can inherit from. In single inheritance, ## a child class can only inherit from one parent class, while in multiple inheritance, a child class can inherit from multiple parent classes.\n",
    "## [single]\n",
    "class Animal:\n",
    "    def __init__(self):\n",
    "        print(\"I'm an animal!\")\n",
    "\n",
    "class Dog(Animal):\n",
    "    def __init__(self):\n",
    "        super().__init__()\n",
    "        print(\"I'm a dog!\")\n",
    "\n",
    "d = Dog()\n",
    "## [multiple]\n",
    "class Animal:\n",
    "    def __init__(self):\n",
    "        print(\"I'm an animal!\")\n",
    "\n",
    "class Mammal:\n",
    "    def __init__(self):\n",
    "        print(\"I'm a mammal!\")\n",
    "\n",
    "class Dog(Mammal, Animal):\n",
    "    def __init__(self):\n",
    "        super().__init__()\n",
    "        print(\"I'm a dog!\")\n",
    "\n",
    "d = Dog()\n"
   ]
  },
  {
   "cell_type": "code",
   "execution_count": 115,
   "id": "0a2a24e3-2b65-478c-bb49-832904437b5e",
   "metadata": {},
   "outputs": [],
   "source": [
    "# 3. Create a Python class called `Vehicle` with attributes `color` and `speed`. Then, create a child class called b`Car` that inherits from `Vehicle` and adds a `brand` attribute. Provide an example of creating a `Car` object."
   ]
  },
  {
   "cell_type": "code",
   "execution_count": 116,
   "id": "0bfbd875-11f6-4e0b-85ea-084dceffb902",
   "metadata": {},
   "outputs": [
    {
     "name": "stdout",
     "output_type": "stream",
     "text": [
      "red\n",
      "100\n",
      "Honda\n"
     ]
    }
   ],
   "source": [
    "class Vehicle:\n",
    "    def __init__(self, color, speed):\n",
    "        self.color = color\n",
    "        self.speed = speed\n",
    "\n",
    "\n",
    "class Car(Vehicle):\n",
    "    def __init__(self, color, speed, brand):\n",
    "        super().__init__(color, speed)\n",
    "        self.brand = brand\n",
    "car = Car(\"red\", 100, \"Honda\")\n",
    "\n",
    "print(car.color)\n",
    "print(car.speed)\n",
    "print(car.brand)"
   ]
  },
  {
   "cell_type": "code",
   "execution_count": 117,
   "id": "4b7704df-7217-4f18-9e23-df613403945b",
   "metadata": {},
   "outputs": [],
   "source": [
    "# 4. Explain the concept of method overriding in inheritance. Provide a practical example"
   ]
  },
  {
   "cell_type": "markdown",
   "id": "3fa6d57c-1ecf-49b6-a2f0-3cc38d39c42c",
   "metadata": {},
   "source": [
    "Overriding an inherited method means providing a public method in a subclass with the same method signature (method name, parameter type list and return type) as a public method in the superclass. The method in the subclass will be called instead of the method in the superclass."
   ]
  },
  {
   "cell_type": "code",
   "execution_count": 118,
   "id": "1340ffca-e0f8-4a5f-b4d9-343970c9998b",
   "metadata": {},
   "outputs": [],
   "source": [
    "# 5. How can you access the methods and attributes of a parent class from a child class in Python? Give an example."
   ]
  },
  {
   "cell_type": "code",
   "execution_count": 119,
   "id": "4993b9b1-2d4d-4a7a-aa7b-59261271ee11",
   "metadata": {},
   "outputs": [
    {
     "name": "stdout",
     "output_type": "stream",
     "text": [
      "I'm an animal!\n"
     ]
    }
   ],
   "source": [
    "class Animal:\n",
    "    def speak(self):\n",
    "        print(\"I'm an animal!\")\n",
    "\n",
    "\n",
    "class Dog(Animal):\n",
    "    def bark(self):\n",
    "        print(\"I'm a dog!\")\n",
    "\n",
    "    def speak(self):\n",
    "        super().speak()\n",
    "\n",
    "\n",
    "dog = Dog()\n",
    "dog.speak()"
   ]
  },
  {
   "cell_type": "code",
   "execution_count": 120,
   "id": "a12a93a0-ae27-4999-9a28-bffec75c86ea",
   "metadata": {},
   "outputs": [],
   "source": [
    " # 6. Discuss the use of the `super()` function in Python inheritance. When and why is it used? Provide an example."
   ]
  },
  {
   "cell_type": "code",
   "execution_count": 121,
   "id": "bb8b16da-3fb7-41e1-a26f-4ab6ad2f0305",
   "metadata": {},
   "outputs": [
    {
     "name": "stdout",
     "output_type": "stream",
     "text": [
      "This is the parent class constructor\n",
      "This is the child class constructor\n"
     ]
    }
   ],
   "source": [
    "## The super() function in Python is used to access methods and attributes of a parent class from a child class. This allows you to reuse code and functionality from ## the parent class, and to extend and customize it as needed\n",
    "class Parent:\n",
    "    def __init__(self):\n",
    "        print(\"This is the parent class constructor\")\n",
    "\n",
    "class Child(Parent):\n",
    "    def __init__(self):\n",
    "        super().__init__()\n",
    "        print(\"This is the child class constructor\")\n",
    "\n",
    "c = Child()"
   ]
  },
  {
   "cell_type": "code",
   "execution_count": 122,
   "id": "2fd5ac4f-11e4-4db8-9679-be6456451c40",
   "metadata": {},
   "outputs": [],
   "source": [
    "# 7. Create a Python class called `Animal` with a method `speak()`. Then, create child classes `Dog` and `Cat` that inherit from `Animal` and override the `speak()` method. Provide an example of using these classes."
   ]
  },
  {
   "cell_type": "code",
   "execution_count": 123,
   "id": "63a77e38-5031-43aa-88f4-1d29c0e99234",
   "metadata": {},
   "outputs": [
    {
     "name": "stdout",
     "output_type": "stream",
     "text": [
      "Woof!\n",
      "Meow!\n"
     ]
    }
   ],
   "source": [
    "class Animal:\n",
    "    def speak(self):\n",
    "        raise NotImplementedError\n",
    "\n",
    "class Dog(Animal):\n",
    "    def speak(self):\n",
    "        print(\"Woof!\")\n",
    "\n",
    "class Cat(Animal):\n",
    "    def speak(self):\n",
    "        print(\"Meow!\")\n",
    "\n",
    "if __name__ == \"__main__\":\n",
    "    # Create a dog and a cat\n",
    "    dog = Dog()\n",
    "    cat = Cat()\n",
    "\n",
    "    # Call the speak() method on each animal\n",
    "    dog.speak()\n",
    "    cat.speak()"
   ]
  },
  {
   "cell_type": "code",
   "execution_count": 124,
   "id": "9672b329-d36f-45ca-a54c-d06f39c73174",
   "metadata": {},
   "outputs": [],
   "source": [
    "# 8. Explain the role of the `isinstance()` function in Python and how it relates to inheritance."
   ]
  },
  {
   "cell_type": "markdown",
   "id": "a77ca454-f9a0-4024-b42d-6ab2580dcad2",
   "metadata": {},
   "source": [
    "The isinstance () function checks whether an object is an instance of the class mentioned. One can test if an object or variable is an instance of the type or class. If inheritance is present in the program, then the function can be used to check if a specified class is the parent class of an object."
   ]
  },
  {
   "cell_type": "code",
   "execution_count": 125,
   "id": "8243a760-1421-421e-8b90-535d86e4fac7",
   "metadata": {},
   "outputs": [],
   "source": [
    " # 9. What is the purpose of the `issubclass()` function in Python? Provide an example."
   ]
  },
  {
   "cell_type": "markdown",
   "id": "be14310d-85cc-4609-bdcb-40bef8acb900",
   "metadata": {},
   "source": [
    "issubclass() in Python\n",
    "This function returns True if the given class is the subclass of given class else it returns False. Parameters: Object: class to be checked. classinfo: class, types or a tuple of classes and types"
   ]
  },
  {
   "cell_type": "code",
   "execution_count": 126,
   "id": "d738d4bc-6ce4-42c8-941b-2ccd97937a4b",
   "metadata": {},
   "outputs": [],
   "source": [
    "# 10. Discuss the concept of constructor inheritance in Python. How are constructors inherited in child classes?"
   ]
  },
  {
   "cell_type": "markdown",
   "id": "52a3ec1f-c6c7-481d-bf5c-e4c7b0aeed39",
   "metadata": {},
   "source": [
    "In Python, every class inherits from a built-in basic class called 'object'. The constructor i.e. the '__init__' function of a class is invoked when we create an object variable or an instance of the class. The variables defined within __init__() are called instance variables or objects"
   ]
  },
  {
   "cell_type": "code",
   "execution_count": 127,
   "id": "53bfe156-bd9e-4186-a5e8-a798123f6838",
   "metadata": {},
   "outputs": [],
   "source": [
    "# 11 In Python, every class inherits from a built-in basic class called 'object'. The constructor i.e. the '__init__' function of a class is invoked when we create an object variable or an instance of the class. The variables defined within __init__() are called instance variables or objects"
   ]
  },
  {
   "cell_type": "code",
   "execution_count": 128,
   "id": "ae2b8167-eca8-4cde-b1e0-b563546d5560",
   "metadata": {},
   "outputs": [
    {
     "data": {
      "text/plain": [
       "<__main__.MyClass at 0x7f5a2f0bcbb0>"
      ]
     },
     "execution_count": 128,
     "metadata": {},
     "output_type": "execute_result"
    }
   ],
   "source": [
    "class MyClass:\n",
    "\n",
    "    def __init__(self, name, age):\n",
    "        self.name = name\n",
    "        self.age = age\n",
    "my_object = MyClass(\"avichal\", 10)\n",
    "my_object"
   ]
  },
  {
   "cell_type": "code",
   "execution_count": 129,
   "id": "1c733f45-a963-40cf-8881-866c1a59ea17",
   "metadata": {},
   "outputs": [],
   "source": [
    "# 12. Explain the use of abstract base classes (ABCs) in Python and how they relate to inheritance. Provide an example using the `abc` module."
   ]
  },
  {
   "cell_type": "markdown",
   "id": "befc0795-1880-4cdd-ac7f-412f8e7bfb6c",
   "metadata": {},
   "source": [
    "An ABC is a special type of class that contains one or more abstract methods. Abstract methods are methods that have no implementation in the ABC but must be implemented in any class that inherits from the ABC. In other words, an ABC provides a set of common methods or attributes that its subclasses must implement."
   ]
  },
  {
   "cell_type": "code",
   "execution_count": 130,
   "id": "186fe0e7-39c7-46ab-932d-9d0b13463702",
   "metadata": {},
   "outputs": [],
   "source": [
    "# 13. How can you prevent a child class from modifying certain attributes or methods inherited from a parent class in Python?"
   ]
  },
  {
   "cell_type": "markdown",
   "id": "e90d373f-97e5-45de-b8ed-3556f2a4e9a5",
   "metadata": {},
   "source": [
    "Use the @property decorator.\n",
    "The @property decorator can be used to create getters and setters for attributes. This can help to prevent child classes from modifying attributes that they should not be able to modify."
   ]
  },
  {
   "cell_type": "code",
   "execution_count": 131,
   "id": "298ddcfd-430c-48ca-a51b-f9e684c76ced",
   "metadata": {},
   "outputs": [],
   "source": [
    "# 14. Create a Python class called `Employee` with attributes `name` and `salary`. Then, create a child class `Manager` that inherits from `Employee` and adds an attribute `department`. Provide an example."
   ]
  },
  {
   "cell_type": "code",
   "execution_count": 132,
   "id": "f2ecf1ee-515f-4828-ac50-3d7f6a98d311",
   "metadata": {},
   "outputs": [
    {
     "name": "stdout",
     "output_type": "stream",
     "text": [
      "rohit 100000\n",
      "mukesh 200000 Engineering\n"
     ]
    }
   ],
   "source": [
    "class Employee:\n",
    "    def __init__(self, name, salary):\n",
    "        self.name = name\n",
    "        self.salary = salary\n",
    "\n",
    "class Manager(Employee):\n",
    "    def __init__(self, name, salary, department):\n",
    "        super().__init__(name, salary)\n",
    "        self.department = department\n",
    "\n",
    "# Create an object of the `Employee` class\n",
    "emp = Employee(\"rohit\", 100000)\n",
    "\n",
    "# Create an object of the `Manager` class\n",
    "mgr = Manager(\"mukesh\", 200000, \"Engineering\")\n",
    "\n",
    "# Print the names and salaries of the employees\n",
    "print(emp.name, emp.salary)\n",
    "print(mgr.name, mgr.salary, mgr.department)"
   ]
  },
  {
   "cell_type": "code",
   "execution_count": 133,
   "id": "4934bd6a-d851-4df3-9ee6-7e62e3bcc093",
   "metadata": {},
   "outputs": [],
   "source": [
    " # 15. Discuss the concept of method overloading in Python inheritance. How does it differ from method  overriding?"
   ]
  },
  {
   "cell_type": "markdown",
   "id": "3ba3ef5d-0905-4445-8bea-904f5528672b",
   "metadata": {},
   "source": [
    "Difference Between Method Overloading and Method Overriding in Python. In the process of method overloading, all the functions or methods must contain the same name with varied signatures. In the process of method overriding, all the functions or methods must possess the very same name along with similar signatures."
   ]
  },
  {
   "cell_type": "code",
   "execution_count": 134,
   "id": "084adc06-1f9b-47c8-b6c8-b4f2a86ee58f",
   "metadata": {},
   "outputs": [],
   "source": [
    "# 16. Explain the purpose of the `__init__()` method in Python inheritance and how it is utilized in child classes."
   ]
  },
  {
   "cell_type": "markdown",
   "id": "b2aebaaa-828a-4c9f-ab86-e7cea1c6f683",
   "metadata": {},
   "source": [
    "The __init__() method in Python is a special method that is called when an object is created from a class. It is used to initialize the object's attributes.\n",
    "In inheritance, the __init__() method of the parent class is inherited by the child class. This means that the child class can use the __init__() method to initialize its own attributes, as well as the attributes of the parent class.\n",
    "The __init__() method can also be used to pass arguments to the parent class when creating the child object. This can be useful for passing data that is needed by both the parent and child classes."
   ]
  },
  {
   "cell_type": "code",
   "execution_count": 135,
   "id": "40f01ce9-205f-42ef-aa1c-d80be301b223",
   "metadata": {},
   "outputs": [],
   "source": [
    "# 17. Create a Python class called `Bird` with a method `fly()`. Then, create child classes `Eagle` and `Sparrow` that inherit from `Bird` and implement the `fly()` method differently. Provide an example of using these classes."
   ]
  },
  {
   "cell_type": "code",
   "execution_count": 136,
   "id": "956bbdc7-3cac-4b13-bee5-b11d1502e540",
   "metadata": {},
   "outputs": [
    {
     "name": "stdout",
     "output_type": "stream",
     "text": [
      "I'm flapping my wings!\n"
     ]
    }
   ],
   "source": [
    "class Bird:\n",
    "    def fly(self):\n",
    "        print(\"I'm flying!\")\n",
    "\n",
    "class Eagle(Bird):\n",
    "    def fly(self):\n",
    "        print(\"I'm soaring through the air!\")\n",
    "\n",
    "class Sparrow(Bird):\n",
    "    def fly(self):\n",
    "        print(\"I'm flapping my wings!\")\n",
    "\n",
    "def main():\n",
    "    eagle = Eagle()\n",
    "    eagle.fly()\n",
    "\n",
    "sparrow = Sparrow()\n",
    "sparrow.fly()\n"
   ]
  },
  {
   "cell_type": "code",
   "execution_count": 137,
   "id": "ea9f1ed3-2aaf-446d-a2df-7e479bb1512e",
   "metadata": {},
   "outputs": [],
   "source": [
    "# 18. What is the \"diamond problem\" in multiple inheritance, and how does Python address it?"
   ]
  },
  {
   "cell_type": "markdown",
   "id": "69d12db4-6bc6-4817-8606-a04b64b41290",
   "metadata": {},
   "source": [
    "The Diamond Problem\n",
    "It refers to an ambiguity that arises when two classes Class2 and Class3 inherit from a superclass Class1 and class Class4 inherits from both Class2 and Class3."
   ]
  },
  {
   "cell_type": "code",
   "execution_count": 138,
   "id": "2b0645ec-53d6-49c8-9f62-8a9207f4b3dc",
   "metadata": {},
   "outputs": [],
   "source": [
    "# 19. Discuss the concept of \"is-a\" and \"has-a\" relationships in inheritance, and provide examples of each."
   ]
  },
  {
   "cell_type": "markdown",
   "id": "270a13c7-5142-45c6-82e3-cea885f4f1bf",
   "metadata": {},
   "source": [
    "In object-oriented programming (OOP), \"is-a\" and \"has-a\" relationships are based on inheritance and composition.\n",
    "On the other hand, HAS-A relationship is composition. In OOP, IS-A relationship is completely inheritance. This means, that the child class is a type of parent class. For example, an apple is a fruit."
   ]
  },
  {
   "cell_type": "code",
   "execution_count": 139,
   "id": "188fa4aa-4ec8-4bd3-a92b-4bd233dd3a4d",
   "metadata": {},
   "outputs": [],
   "source": [
    "# 20. Create a Python class hierarchy for a university system. Start with a base class `Person` and create child\n",
    "#classes `Student` and `Professor`, each with their own attributes and methods. Provide an example of using\n",
    "# these classes in a university context."
   ]
  },
  {
   "cell_type": "code",
   "execution_count": 140,
   "id": "afc50996-cd3d-43b9-a601-f913f63a2477",
   "metadata": {},
   "outputs": [
    {
     "name": "stdout",
     "output_type": "stream",
     "text": [
      "John Doe, 20, 123 Main Street, Computer Science, 3.9\n",
      "Jane Smith, 40, 456 Elm Street, Engineering, Full Professor\n"
     ]
    }
   ],
   "source": [
    "class Person:\n",
    "    def __init__(self, name, age, address):\n",
    "        self.name = name\n",
    "        self.age = age\n",
    "        self.address = address\n",
    "\n",
    "    def __repr__(self):\n",
    "        return f\"{self.name}, {self.age}, {self.address}\"\n",
    "\n",
    "\n",
    "class Student(Person):\n",
    "    def __init__(self, name, age, address, major, gpa):\n",
    "        super().__init__(name, age, address)\n",
    "        self.major = major\n",
    "        self.gpa = gpa\n",
    "\n",
    "    def __repr__(self):\n",
    "        return f\"{self.name}, {self.age}, {self.address}, {self.major}, {self.gpa}\"\n",
    "\n",
    "\n",
    "class Professor(Person):\n",
    "    def __init__(self, name, age, address, department, rank):\n",
    "        super().__init__(name, age, address)\n",
    "        self.department = department\n",
    "        self.rank = rank\n",
    "\n",
    "    def __repr__(self):\n",
    "        return f\"{self.name}, {self.age}, {self.address}, {self.department}, {self.rank}\"\n",
    "\n",
    "\n",
    "def main():\n",
    "    # Create a student object\n",
    "    student = Student(\"John Doe\", 20, \"123 Main Street\", \"Computer Science\", 3.9)\n",
    "\n",
    "    # Create a professor object\n",
    "    professor = Professor(\"Jane Smith\", 40, \"456 Elm Street\", \"Engineering\", \"Full Professor\")\n",
    "\n",
    "    print(student)\n",
    "    print(professor)\n",
    "\n",
    "\n",
    "if __name__ == \"__main__\":\n",
    "    main()"
   ]
  },
  {
   "cell_type": "code",
   "execution_count": null,
   "id": "28a6f5e2-f053-46a4-8637-425f1069b5ee",
   "metadata": {},
   "outputs": [],
   "source": []
  },
  {
   "cell_type": "code",
   "execution_count": null,
   "id": "7156b3d8-2dbf-457e-911b-c623000e7dc2",
   "metadata": {},
   "outputs": [],
   "source": []
  },
  {
   "cell_type": "code",
   "execution_count": 141,
   "id": "975978b1-a24c-46f6-ae1d-d4e59e838252",
   "metadata": {},
   "outputs": [],
   "source": [
    "# 1. Explain the concept of encapsulation in Python. What is its role in object-oriented programming?"
   ]
  },
  {
   "cell_type": "markdown",
   "id": "80b0ff14-2190-4a26-aa58-19f2c6eb801b",
   "metadata": {},
   "source": [
    "Encapsulation is one of the fundamental concepts in object-oriented programming (OOP). It describes the idea of wrapping data and the methods that work on data within one unit. This puts restrictions on accessing variables and methods directly and can prevent the accidental modification of data"
   ]
  },
  {
   "cell_type": "code",
   "execution_count": 142,
   "id": "df1069e2-7beb-4332-8608-42f588ec0bbb",
   "metadata": {},
   "outputs": [],
   "source": [
    "# 2. Describe the key principles of encapsulation, including access control and data hiding."
   ]
  },
  {
   "cell_type": "markdown",
   "id": "1189e51d-cabd-4b04-b93c-21f39470eea1",
   "metadata": {},
   "source": [
    "Encapsulation is a core concept of object-oriented programming (OOP). It combines data and methods into objects, and limits access to an object's internal state\n",
    "Encapsulation is a way to restrict the direct access to some components of an object, so users cannot access state values for all of the variables of a particular object. Encapsulation can be used to hide both data members and data functions or methods associated with an instantiated class or object."
   ]
  },
  {
   "cell_type": "code",
   "execution_count": 143,
   "id": "3564a6cd-01fd-4df0-9ebf-26755f8f8b30",
   "metadata": {},
   "outputs": [],
   "source": [
    "# 3. How can you achieve encapsulation in Python classes? Provide an example."
   ]
  },
  {
   "cell_type": "code",
   "execution_count": 147,
   "id": "227e04aa-bd46-4d88-8405-d2a1518ba5c7",
   "metadata": {},
   "outputs": [
    {
     "data": {
      "text/plain": [
       "60000"
      ]
     },
     "execution_count": 147,
     "metadata": {},
     "output_type": "execute_result"
    }
   ],
   "source": [
    "class Employee:\n",
    "\n",
    "    def __init__(self, name, salary):\n",
    "        self.__name = name\n",
    "        self.__salary = salary\n",
    "\n",
    "    def get_name(self):\n",
    "        return self.__name\n",
    "\n",
    "    def set_name(self, name):\n",
    "        self.__name = name\n",
    "\n",
    "    def get_salary(self):\n",
    "        return self.__salary\n",
    "\n",
    "    def set_salary(self, salary):\n",
    "        self.__salary = salary\n",
    "a = Employee('aakash',60000)\n",
    "a.get_salary()"
   ]
  },
  {
   "cell_type": "code",
   "execution_count": 148,
   "id": "96ac915e-f505-41f0-bcd4-3a89a1949043",
   "metadata": {},
   "outputs": [],
   "source": [
    "# 4. Discuss the difference between public, private, and protected access modifiers in Python."
   ]
  },
  {
   "cell_type": "markdown",
   "id": "a129f6c7-fc28-4b22-961f-bb8629a457a2",
   "metadata": {},
   "source": [
    "Public data attributes are accessible by any class and function, protected data attributes should only be accessed inside the class environment and can also be accessed inside the sub-classes and private data attributes are only accessible inside the class."
   ]
  },
  {
   "cell_type": "code",
   "execution_count": 149,
   "id": "3c59afcf-59a2-4c4c-929a-07ea1dbf42ea",
   "metadata": {},
   "outputs": [],
   "source": [
    "## 5. Create a Python class called `Person` with a private attribute `__name`. Provide methods to get and set the name attribute."
   ]
  },
  {
   "cell_type": "code",
   "execution_count": 174,
   "id": "08e4d51c-6fbc-415a-b049-b88a6e95dece",
   "metadata": {},
   "outputs": [],
   "source": [
    "class person:\n",
    "    def __init__(self,name):\n",
    "        self.__name=name\n",
    "    @property\n",
    "    def name(self):\n",
    "        return self.__name\n",
    "    @name.setter\n",
    "    def name(self,value):\n",
    "        self.__name=value"
   ]
  },
  {
   "cell_type": "code",
   "execution_count": null,
   "id": "493efc54-c035-403e-9cb0-70f79cd48ed8",
   "metadata": {},
   "outputs": [],
   "source": [
    "\n",
    "# 6. Explain the purpose of getter and setter methods in encapsulation. Provide examples."
   ]
  },
  {
   "cell_type": "markdown",
   "id": "60bd767f-14b3-4b62-aa0f-f251e197b409",
   "metadata": {},
   "source": [
    "class Person:\n",
    "\n",
    "def __init__(self, name):\n",
    "\n",
    "self._name = name\n",
    "\n",
    "@property\n",
    "\n",
    "def name(self):\n",
    "\n",
    "return self._name\n",
    "\n",
    "@name.setter\n",
    "\n",
    "def name(self, value):\n",
    "\n",
    "self._name = value"
   ]
  },
  {
   "cell_type": "code",
   "execution_count": 176,
   "id": "61814688-3555-4e94-ae0e-c0253c4985eb",
   "metadata": {},
   "outputs": [],
   "source": [
    "# 7. What is name mangling in Python, and how does it affect encapsulation?"
   ]
  },
  {
   "cell_type": "markdown",
   "id": "df046617-a7cc-4ab8-8073-eeeb7a095d31",
   "metadata": {},
   "source": [
    "Name mangling in Python is a technique used to prevent name collisions between attributes and methods of different classes. It is done by automatically changing the names of attributes and methods that start with two leading underscores. For example, the attribute __private_attribute would be mangled to _classname__private_attribute.\n",
    "class MyClass:\n",
    "\n",
    "    __private_attribute = 1\n",
    "\n",
    "    def __init__(self):\n",
    "        self.__public_attribute = 2\n",
    "\n",
    "    def get_public_attribute(self):\n",
    "        return self.__public_attribute\n",
    "\n",
    "    def set_public_attribute(self, value):\n",
    "        self.__public_attribute = value"
   ]
  },
  {
   "cell_type": "code",
   "execution_count": 177,
   "id": "b36f0927-1837-4ede-8713-0a8cf5e8ede7",
   "metadata": {},
   "outputs": [],
   "source": [
    "# 8. Create a Python class called `BankAccount` with private attributes for the account balance (`__balance`) and account number (`__account_number`). Provide methods for depositing and withdrawing money."
   ]
  },
  {
   "cell_type": "code",
   "execution_count": 178,
   "id": "66db2921-c4a0-4c82-8b2d-8fb071aeb90c",
   "metadata": {},
   "outputs": [],
   "source": [
    "class BankAccount:\n",
    "\n",
    "    def __init__(self, account_number, name, balance):\n",
    "        self.__account_number = account_number\n",
    "        self.__name = name\n",
    "        self.__balance = balance\n",
    "\n",
    "    def deposit(self, amount):\n",
    "        self.__balance += amount\n",
    "\n",
    "    def withdraw(self, amount):\n",
    "        if self.__balance >= amount:\n",
    "            self.__balance -= amount\n",
    "        else:\n",
    "            print(\"You cannot withdraw more money than you have.\")\n",
    "\n",
    "    def get_balance(self):\n",
    "        return self.__balance\n",
    "\n",
    "    def get_account_number(self):\n",
    "        return self.__account_number\n",
    "\n",
    "    def get_name(self):\n",
    "        return self.__name\n",
    "\n",
    "    def set_balance(self, balance):\n",
    "        self.__balance = balance\n",
    "\n",
    "    def set_account_number(self, account_number):\n",
    "        self.__account_number = account_number\n",
    "\n",
    "    def set_name(self, name):\n",
    "        self.__name = name"
   ]
  },
  {
   "cell_type": "code",
   "execution_count": 179,
   "id": "4446c1d2-88a8-4155-9df3-288b484a1d3b",
   "metadata": {},
   "outputs": [],
   "source": [
    "# 9. Discuss the advantages of encapsulation in terms of code maintainability and security."
   ]
  },
  {
   "cell_type": "markdown",
   "id": "7f354289-ec81-41e9-86a0-7275b69836d0",
   "metadata": {},
   "source": [
    "Code maintainability\n",
    "Improved readability\n",
    "Easier to locate and fix bugs\n",
    "Self-contained and easier to test and debug\n",
    "Code security\n",
    "Prevents unauthorized access to sensitive data\n",
    "Protects an object from unwanted access by clients\n",
    "Allows access to a level without revealing the complex details below that level"
   ]
  },
  {
   "cell_type": "code",
   "execution_count": 180,
   "id": "307a1576-0dd4-43e3-97f7-f33feb763c68",
   "metadata": {},
   "outputs": [],
   "source": [
    "# 10. How can you access private attributes in Python? Provide an example demonstrating the use of name mangling."
   ]
  },
  {
   "cell_type": "markdown",
   "id": "2678ee18-99f7-4e4e-ada1-0fb55219b910",
   "metadata": {},
   "source": [
    "class MyClass:\n",
    "    def __init__(self):\n",
    "        self._classname__foo=__foo\n",
    "    __foo = 'bar'\n",
    "    def __getattribute__(self, item):\n",
    "        if item == '__foo':\n",
    "            return self._classname__foo\n",
    "\n",
    "        else:\n",
    "            return super().__getattribute__(item)\n",
    "obj = MyClass()\n",
    "\n",
    "\n",
    "\n",
    "print(obj.__foo)  # AttributeError: 'MyClass' object has no attribute '__foo'\n",
    "\n",
    "print(obj._classname__foo)  # bar"
   ]
  },
  {
   "cell_type": "code",
   "execution_count": 2,
   "id": "26e459f5-68da-47a7-a6f4-37d846b35f3d",
   "metadata": {},
   "outputs": [],
   "source": [
    "# 11. Create a Python class hierarchy for a school system, including classes for students, teachers, and courses, and implement encapsulation principles to protect sensitive information."
   ]
  },
  {
   "cell_type": "code",
   "execution_count": 3,
   "id": "1fc86089-3dd7-43ac-9493-4091f675fbb0",
   "metadata": {},
   "outputs": [
    {
     "name": "stdout",
     "output_type": "stream",
     "text": [
      "John Doe (18) - Grades: [90, 80, 70]\n",
      "Jane Doe (19) - Grades: [100, 90, 100]\n",
      "Mr. Smith (40) - Courses: ['Math', 'Science']\n",
      "Ms. Jones (35) - Courses: ['English', 'History']\n",
      "Math - Taught by: Mr. Smith (40) - Courses: ['Math', 'Science']\n",
      "Science - Taught by: Mr. Smith (40) - Courses: ['Math', 'Science']\n",
      "English - Taught by: Ms. Jones (35) - Courses: ['English', 'History']\n",
      "History - Taught by: Ms. Jones (35) - Courses: ['English', 'History']\n"
     ]
    }
   ],
   "source": [
    "class Person:\n",
    "    def __init__(self, name, age, address):\n",
    "        self.name = name\n",
    "        self.age = age\n",
    "        self.address = address\n",
    "\n",
    "    def __repr__(self):\n",
    "        return f\"{self.name} ({self.age})\"\n",
    "\n",
    "\n",
    "class Student(Person):\n",
    "    def __init__(self, name, age, address, grades):\n",
    "        super().__init__(name, age, address)\n",
    "        self.grades = grades\n",
    "\n",
    "    def __repr__(self):\n",
    "        return f\"{self.name} ({self.age}) - Grades: {self.grades}\"\n",
    "\n",
    "\n",
    "class Teacher(Person):\n",
    "    def __init__(self, name, age, address, courses):\n",
    "        super().__init__(name, age, address)\n",
    "        self.courses = courses\n",
    "\n",
    "    def __repr__(self):\n",
    "        return f\"{self.name} ({self.age}) - Courses: {self.courses}\"\n",
    "\n",
    "\n",
    "class Course:\n",
    "    def __init__(self, name, description, teacher):\n",
    "        self.name = name\n",
    "        self.description = description\n",
    "        self.teacher = teacher\n",
    "\n",
    "    def __repr__(self):\n",
    "        return f\"{self.name} - Taught by: {self.teacher}\"\n",
    "\n",
    "\n",
    "# Create some students\n",
    "student1 = Student(\"John Doe\", 18, \"123 Main Street\", [90, 80, 70])\n",
    "student2 = Student(\"Jane Doe\", 19, \"456 Elm Street\", [100, 90, 100])\n",
    "\n",
    "# Create some teachers\n",
    "teacher1 = Teacher(\"Mr. Smith\", 40, \"567 Oak Street\", [\"Math\", \"Science\"])\n",
    "teacher2 = Teacher(\"Ms. Jones\", 35, \"890 Pine Street\", [\"English\", \"History\"])\n",
    "\n",
    "# Create some courses\n",
    "course1 = Course(\"Math\", \"This course covers basic math concepts.\", teacher1)\n",
    "course2 = Course(\"Science\", \"This course covers basic science concepts.\", teacher1)\n",
    "course3 = Course(\"English\", \"This course covers basic English concepts.\", teacher2)\n",
    "course4 = Course(\"History\", \"This course covers basic history concepts.\", teacher2)\n",
    "\n",
    "# Print the students and teachers\n",
    "print(student1)\n",
    "print(student2)\n",
    "print(teacher1)\n",
    "print(teacher2)\n",
    "\n",
    "# Print the courses\n",
    "print(course1)\n",
    "print(course2)\n",
    "print(course3)\n",
    "print(course4)"
   ]
  },
  {
   "cell_type": "code",
   "execution_count": null,
   "id": "62b09cc2-1c8c-432b-9bc9-31218a5b083f",
   "metadata": {},
   "outputs": [],
   "source": [
    "# 12. Explain the concept of property decorators in Python and how they relate to encapsulation."
   ]
  },
  {
   "cell_type": "markdown",
   "id": "d66f3ed0-256f-4bd3-9e21-58f025ad1a1d",
   "metadata": {},
   "source": [
    "The @property decorator in Python is a built-in decorator that allows you to define properties on a class. Properties are a special type of attribute that can be used to control access to data. They can be used to get and set the value of an attribute, or to perform other actions when the attribute is accessed.\n",
    "Encapsulation is a programming technique that is used to hide the implementation details of a class from its users. This can be done by using private attributes and methods, or by using property decorators.\n",
    "Property decorators are a more flexible way to implement encapsulation than private attributes and methods. They allow you to control access to data in a more granular way, and they can be used to implement more complex functionality."
   ]
  },
  {
   "cell_type": "code",
   "execution_count": null,
   "id": "9d992a74-2f03-47ce-9146-c776d2ff9829",
   "metadata": {},
   "outputs": [],
   "source": [
    "# 13. What is data hiding, and why is it important in encapsulation? Provide examples."
   ]
  },
  {
   "cell_type": "markdown",
   "id": "8201bda6-ccfe-4ebd-bae4-2dae4790f77e",
   "metadata": {},
   "source": [
    "Data hiding is a technique in object-oriented programming (OOP) that restricts access to data. \n",
    "It prevents data from being accessed directly from outside a class. \n",
    "Data hiding can help programmers create classes with unique data sets and functions. \n",
    "It can also prevent accidental manipulation of data\n",
    "Data hiding helps programmers create classes with unique data sets and functions.\n",
    "It ensures exclusive data access and prevents intended or unintended changes in the data.\n",
    "It protects the object integrity from unintended or intended changes."
   ]
  },
  {
   "cell_type": "code",
   "execution_count": 4,
   "id": "43415b7a-75bf-4f9c-9c61-68c5a9f19a46",
   "metadata": {},
   "outputs": [],
   "source": [
    " # 14 14. Create a Python class called `Employee` with private attributes for salary (`__salary`) and employee ID (`__employee_id`). Provide a method to calculate yearly bonuses."
   ]
  },
  {
   "cell_type": "code",
   "execution_count": 5,
   "id": "8b5f10e7-9406-4bd2-a368-396e16f3e934",
   "metadata": {},
   "outputs": [],
   "source": [
    "class Employee:\n",
    "\n",
    "    def __init__(self, employee_id, salary):\n",
    "        self.__employee_id = employee_id\n",
    "        self.__salary = salary\n",
    "\n",
    "    def get_salary(self):\n",
    "        return self.__salary\n",
    "\n",
    "    def set_salary(self, new_salary):\n",
    "        self.__salary = new_salary\n",
    "\n",
    "    def get_employee_id(self):\n",
    "        return self.__employee_id\n",
    "\n",
    "    def set_employee_id(self, new_employee_id):\n",
    "        self.__employee_id = new_employee_id\n",
    "\n",
    "    def calculate_yearly_bonus(self):\n",
    "        bonus = self.__salary * 0.1\n",
    "        return bonus"
   ]
  },
  {
   "cell_type": "code",
   "execution_count": 6,
   "id": "5ef53c3d-a617-4718-8d4b-501fe6440c1f",
   "metadata": {},
   "outputs": [],
   "source": [
    "# 15. Discuss the use of accessors and mutators in encapsulation. How do they help maintain control over attribute access?"
   ]
  },
  {
   "cell_type": "markdown",
   "id": "23beef6b-0bd9-4859-98ee-b5f2ae15ea9a",
   "metadata": {},
   "source": [
    "Accessors (getters) are methods that retrieve the values of an object's attributes, while mutators (setters) are methods that modify the values of attributes. They are used to control access to object data, enforcing encapsulation and data integrity."
   ]
  },
  {
   "cell_type": "code",
   "execution_count": 7,
   "id": "d4cbd800-225d-4694-8dab-4a642e56477e",
   "metadata": {},
   "outputs": [],
   "source": [
    " # 16. What are the potential drawbacks or disadvantages of using encapsulation in Python?"
   ]
  },
  {
   "cell_type": "markdown",
   "id": "028e79b8-f936-46c8-8a74-1f0c7c30882d",
   "metadata": {},
   "source": [
    "1 It can make code more complex.\n",
    "2 It can make code more difficult to debug.\n",
    "3 It can make code less flexible."
   ]
  },
  {
   "cell_type": "code",
   "execution_count": 8,
   "id": "494095d7-36d8-4ce1-a3f9-c53424fbf6d2",
   "metadata": {},
   "outputs": [],
   "source": [
    "# 17. Create a Python class for a library system that encapsulates book information, including titles, authors, and availability status."
   ]
  },
  {
   "cell_type": "code",
   "execution_count": 9,
   "id": "7e8bf196-4643-4689-8c35-369a0a930ef8",
   "metadata": {},
   "outputs": [],
   "source": [
    "class Book:\n",
    "\n",
    "    def __init__(self, title, author, availability_status):\n",
    "        self.title = title\n",
    "        self.author = author\n",
    "        self.availability_status = availability_status\n",
    "\n",
    "    def __str__(self):\n",
    "        return f\"Book('{self.title}', '{self.author}', '{self.availability_status}')\"\n",
    "\n",
    "    def __repr__(self):\n",
    "        return f\"Book('{self.title}', '{self.author}', '{self.availability_status}')\""
   ]
  },
  {
   "cell_type": "code",
   "execution_count": 10,
   "id": "e316940a-187d-4aac-8150-9e8c4656c9d0",
   "metadata": {},
   "outputs": [],
   "source": [
    "# 18. Explain how encapsulation enhances code reusability and modularity in Python programs."
   ]
  },
  {
   "cell_type": "markdown",
   "id": "2aa0217a-91e8-4f44-9d95-4b6bdb10329a",
   "metadata": {},
   "source": [
    "Encapsulation is one of the key concepts in object-oriented programming. It refers to the bundling of data and functionality into a single unit, known as a class. This unit is then treated as a black box, with its internal workings hidden from the outside world.\n",
    "Encapsulation enhances code reusability in Python programs by allowing developers to reuse existing classes without having to modify them. This is because classes are self-contained units that provide all the necessary functionality to complete a specific task. As a result, developers can simply instantiate a class and use it as needed, without having to worry about how it works internally.\n",
    "Encapsulation also enhances code modularity in Python programs by grouping related data and functionality together into classes. This makes the code easier to understand and maintain, as developers can focus on one class at a time. Additionally, modularity makes it easier to reuse code across different projects, as classes can be easily plugged into different applications"
   ]
  },
  {
   "cell_type": "code",
   "execution_count": 11,
   "id": "dd00c36e-c29c-483e-9021-c51ac5b30e18",
   "metadata": {},
   "outputs": [],
   "source": [
    "# 19. Describe the concept of information hiding in encapsulation. Why is it essential in software development?"
   ]
  },
  {
   "cell_type": "markdown",
   "id": "3105b82a-ebcb-4d4c-a0ff-847364ea1c53",
   "metadata": {},
   "source": [
    "Hiding information behind a well-defined interface\n",
    "To make classes easier to use\n",
    "By hiding the internal workings of a class and only exposing necessary interfaces\n",
    "Example: Hiding the physical storage layout for data so that if it is changed, the change is restricted to a small subset of the total program\n",
    "t ensures that the object's state can only be changed in controlled ways\n",
    "It makes the interfaces that face the user easier to understand"
   ]
  },
  {
   "cell_type": "code",
   "execution_count": 12,
   "id": "5f0409d7-0e70-494d-9a72-b15c7ff56a4f",
   "metadata": {},
   "outputs": [],
   "source": [
    "# 1. What is polymorphism in Python? Explain how it is related to object-oriented programming."
   ]
  },
  {
   "cell_type": "code",
   "execution_count": 13,
   "id": "61448cb1-f276-4f9c-9a37-79fe51387951",
   "metadata": {},
   "outputs": [
    {
     "name": "stdout",
     "output_type": "stream",
     "text": [
      "Woof!\n",
      "Meow!\n"
     ]
    }
   ],
   "source": [
    "#Polymorphism in Python is the ability of one function to display multiple functionalities all together. It basically creates #a structure that can use many forms of objects. Polymorphism in Python involves a child class inheriting all the methods #from the parent class.\n",
    "\n",
    "class Animal:\n",
    "    def speak(self):\n",
    "        raise NotImplementedError\n",
    "\n",
    "class Dog(Animal):\n",
    "    def speak(self):\n",
    "        print(\"Woof!\")\n",
    "\n",
    "class Cat(Animal):\n",
    "    def speak(self):\n",
    "        print(\"Meow!\")\n",
    "\n",
    "def main():\n",
    "    animals = [Dog(), Cat()]\n",
    "    for animal in animals:\n",
    "        animal.speak()\n",
    "\n",
    "if __name__ == \"__main__\":\n",
    "    main()"
   ]
  },
  {
   "cell_type": "code",
   "execution_count": 14,
   "id": "b598ec41-0c67-45e2-b3c9-c13715010088",
   "metadata": {},
   "outputs": [],
   "source": [
    "# 2. Describe the key principles of encapsulation, including access control and data hiding."
   ]
  },
  {
   "cell_type": "markdown",
   "id": "876f3ea7-2bf1-4128-b0d8-4efad6dc2be6",
   "metadata": {},
   "source": [
    "Encapsulation is one of the fundamentals of OOP (object-oriented programming). It refers to the bundling of data with the methods that operate on that data. Encapsulation is used to hide the values or state of a structured data object inside a class, preventing unauthorized parties' direct access to them."
   ]
  },
  {
   "cell_type": "code",
   "execution_count": 15,
   "id": "c8d4c10d-9b8c-4b4f-a512-6cf2c50a64e5",
   "metadata": {},
   "outputs": [],
   "source": [
    "# 2. Describe the difference between compile-time polymorphism and runtime polymorphism in Python."
   ]
  },
  {
   "cell_type": "markdown",
   "id": "ccde85cf-0795-4208-a852-2e07ea93ad42",
   "metadata": {},
   "source": [
    "Polymorphism is one of the most important features of object-oriented programming. It allows us to have more than one method with the same name, but with different signatures and return types. This can be used to achieve code reuse and flexibility.\n",
    "Polymorphism in Python can be implemented in two ways: compile-time polymorphism and runtime polymorphism.\n",
    "Compile-time polymorphism\n",
    "In compile-time polymorphism, the method call is decided by the compiler. This means that the compiler knows which method to call at compile time, based on the type of the object that is being used.\n",
    "Compile-time polymorphism in Python is implemented using method overloading. Method overloading is a feature that allows us to have multiple methods with the same name, but with different signatures."
   ]
  },
  {
   "cell_type": "code",
   "execution_count": 16,
   "id": "e0ea4669-2cac-404a-ba4b-68abba799ae3",
   "metadata": {},
   "outputs": [],
   "source": [
    "# 3. Create a Python class hierarchy for shapes (e.g., circle, square, triangle) and demonstrate polymorphism through a common method, such as `calculate_area()`."
   ]
  },
  {
   "cell_type": "code",
   "execution_count": 18,
   "id": "4d00fc43-6244-4f0c-a0cf-638f7c37eaa4",
   "metadata": {},
   "outputs": [
    {
     "name": "stdout",
     "output_type": "stream",
     "text": [
      "78.53981633974483\n",
      "200\n",
      "150.0\n"
     ]
    }
   ],
   "source": [
    "import math\n",
    "class Shape:\n",
    "    def __init__(self):\n",
    "        pass\n",
    "\n",
    "    def calculate_area(self):\n",
    "        raise NotImplementedError\n",
    "\n",
    "class Circle(Shape):\n",
    "    def __init__(self, radius):\n",
    "        super().__init__()\n",
    "        self.radius = radius\n",
    "\n",
    "    def calculate_area(self):\n",
    "        return math.pi * self.radius ** 2\n",
    "\n",
    "class Rectangle(Shape):\n",
    "    def __init__(self, width, height):\n",
    "        super().__init__()\n",
    "        self.width = width\n",
    "        self.height = height\n",
    "\n",
    "    def calculate_area(self):\n",
    "        return self.width * self.height\n",
    "\n",
    "class Triangle(Shape):\n",
    "    def __init__(self, base, height):\n",
    "        super().__init__()\n",
    "        self.base = base\n",
    "        self.height = height\n",
    "\n",
    "    def calculate_area(self):\n",
    "        return 0.5 * self.base * self.height\n",
    "\n",
    "def main():\n",
    "    # Create a list of shapes\n",
    "    shapes = [Circle(5), Rectangle(10, 20), Triangle(15, 20)]\n",
    "\n",
    "    # Iterate through the list and print out the area of each shape\n",
    "    for shape in shapes:\n",
    "        print(shape.calculate_area())\n",
    "\n",
    "if __name__ == \"__main__\":\n",
    "    main()"
   ]
  },
  {
   "cell_type": "code",
   "execution_count": 19,
   "id": "a17093a0-ac9b-4199-b220-ce47cc4ebbea",
   "metadata": {},
   "outputs": [],
   "source": [
    "# 4. Explain the concept of method overriding in polymorphism. Provide an example."
   ]
  },
  {
   "cell_type": "markdown",
   "id": "109bee59-e588-4c32-8a03-7baa443525a0",
   "metadata": {},
   "source": [
    "You can achieve Runtime polymorphism via Method Overriding. Method Overriding is done when a child or a subclass has a method with the same name, parameters, and return type as the parent or the superclass; then that function overrides the function in the superclass."
   ]
  },
  {
   "cell_type": "code",
   "execution_count": 20,
   "id": "b6bb0fd8-bf1a-45dc-b8dc-3f81f4694460",
   "metadata": {},
   "outputs": [],
   "source": [
    "# 5. How is polymorphism different from method overloading in Python? Provide examples for both"
   ]
  },
  {
   "cell_type": "markdown",
   "id": "71bfd10a-60ee-4096-9213-be8f8f8803ea",
   "metadata": {},
   "source": [
    "Polymorphism is the ability to use a single name to refer to different objects or entities. Method overloading is a special case of polymorphism that allows you to have multiple methods with the same name, but with different parameters.\n",
    "In Python, polymorphism is implemented using duck typing, which means that objects are compared based on their behavior rather than their type. This allows you to use the same code to work with different types of objects.\n",
    "Method overloading is implemented using the __new__ and __init__ methods. These methods are called when you create a new object, and they allow you to customize the object's behavior."
   ]
  },
  {
   "cell_type": "code",
   "execution_count": 21,
   "id": "46ff34d7-739d-4da9-8b5e-bfce9454650e",
   "metadata": {},
   "outputs": [],
   "source": [
    "# 6. Create a Python class called `Animal` with a method `speak()`. Then, create child classes like `Dog`, `Cat`, and `Bird`, each with their own `speak()` method. Demonstrate polymorphism by calling the `speak()` method on objects of different subclasses."
   ]
  },
  {
   "cell_type": "code",
   "execution_count": 22,
   "id": "1d539390-510c-4ab9-aaaf-6f9f13794f9f",
   "metadata": {},
   "outputs": [
    {
     "name": "stdout",
     "output_type": "stream",
     "text": [
      "Woof!\n",
      "Meow!\n",
      "Chirp!\n"
     ]
    }
   ],
   "source": [
    "class Animal:\n",
    "    def speak(self):\n",
    "        raise NotImplementedError(\"Subclass must implement this method\")\n",
    "\n",
    "class Dog(Animal):\n",
    "    def speak(self):\n",
    "        return \"Woof!\"\n",
    "\n",
    "class Cat(Animal):\n",
    "    def speak(self):\n",
    "        return \"Meow!\"\n",
    "\n",
    "class Bird(Animal):\n",
    "    def speak(self):\n",
    "        return \"Chirp!\"\n",
    "\n",
    "def animal_speak(animal):\n",
    "    print(animal.speak())\n",
    "\n",
    "if __name__ == \"__main__\":\n",
    "    animals = [Dog(), Cat(), Bird()]\n",
    "    for animal in animals:\n",
    "        animal_speak(animal)"
   ]
  },
  {
   "cell_type": "code",
   "execution_count": 23,
   "id": "231c4b8f-7bbf-4311-9fe1-a84d9fcc7ec2",
   "metadata": {},
   "outputs": [],
   "source": [
    "# 7. Discuss the use of abstract methods and classes in achieving polymorphism in Python. Provide an example using the `abc` module"
   ]
  },
  {
   "cell_type": "markdown",
   "id": "24ceaa2c-be32-4d48-ab5e-fe4a9fd31ada",
   "metadata": {},
   "source": [
    "Polymorphism is one of the key features of object-oriented programming, which allows us to treat different objects of different types in a similar way. In Python, polymorphism can be achieved using abstract methods and classes.\n",
    "Abstract methods are methods that are declared in a class but not implemented. They are meant to be overridden by subclasses. Classes that contain abstract methods are called abstract classes.\n",
    "The abc module in Python provides a number of tools for working with abstract classes and abstract methods. To create an abstract class, you can subclass from the ABCMeta metaclass. This will ensure that your class cannot be instantiated and that any subclasses must implement the abstract methods that you define.\n",
    "To use abstract methods and classes to achieve polymorphism, you can create a base class that defines the abstract methods. Then, you can create subclasses that override the abstract methods and provide their own implementations. This will allow you to treat objects of different types in a similar way."
   ]
  },
  {
   "cell_type": "code",
   "execution_count": 24,
   "id": "3d51c90f-eed0-4ee7-a190-78c85f471c69",
   "metadata": {},
   "outputs": [],
   "source": [
    "# 8. Create a Python class hierarchy for a vehicle system (e.g., car, bicycle, boat) and implement a polymorphic `start()` method that prints a message specific to each vehicle type."
   ]
  },
  {
   "cell_type": "code",
   "execution_count": 25,
   "id": "3933a3d1-1df6-4bb3-8954-b76061fb5879",
   "metadata": {},
   "outputs": [
    {
     "name": "stdout",
     "output_type": "stream",
     "text": [
      "Starting the car...\n",
      "Starting the bicycle...\n",
      "Starting the boat...\n"
     ]
    }
   ],
   "source": [
    "class Vehicle:\n",
    "    def __init__(self, name):\n",
    "        self.name = name\n",
    "\n",
    "    def start(self):\n",
    "        raise NotImplementedError\n",
    "\n",
    "class Car(Vehicle):\n",
    "    def start(self):\n",
    "        print(\"Starting the car...\")\n",
    "\n",
    "class Bicycle(Vehicle):\n",
    "    def start(self):\n",
    "        print(\"Starting the bicycle...\")\n",
    "\n",
    "class Boat(Vehicle):\n",
    "    def start(self):\n",
    "        print(\"Starting the boat...\")\n",
    "\n",
    "def main():\n",
    "    # Create a car and bicycle object\n",
    "    car = Car(\"Car\")\n",
    "    bicycle = Bicycle(\"Bicycle\")\n",
    "    boat = Boat(\"Boat\")\n",
    "\n",
    "    # Start the vehicles\n",
    "    car.start()\n",
    "    bicycle.start()\n",
    "    boat.start()\n",
    "\n",
    "if __name__ == \"__main__\":\n",
    "    main()"
   ]
  },
  {
   "cell_type": "code",
   "execution_count": 26,
   "id": "70d21c49-8194-4a73-b275-7b1c2000b014",
   "metadata": {},
   "outputs": [],
   "source": [
    "# 9. Explain the significance of the `isinstance()` and `issubclass()` functions in Python polymorphism."
   ]
  },
  {
   "cell_type": "markdown",
   "id": "c707813a-8f58-4770-9009-b720e43c55d2",
   "metadata": {},
   "source": [
    "The isinstance() and issubclass() functions are two of the most important functions in Python polymorphism. They are used to check whether an object is an instance of a class, or whether one class is a subclass of another class, respectively.\n",
    "The isinstance() function takes two arguments: the object you want to test, and the class you want to test it against. It returns True if the object is an instance of the class, or False if it is not.\n",
    "The issubclass() function takes two arguments: the class you want to test, and the class you want to test it against. It returns True if the class is a subclass of the other class, or False if it is not.\n",
    "These functions are used extensively in Python polymorphism. For example, if you have a class called Animal, and you have a subclass called Dog, you can use the isinstance() function to check whether an object is a Dog or not. You can also use the issubclass() function to check whether the Dog class is a subclass of the Animal class."
   ]
  },
  {
   "cell_type": "code",
   "execution_count": 27,
   "id": "916e6432-8820-4c17-9574-4b405666cd08",
   "metadata": {},
   "outputs": [],
   "source": [
    "# 10. What is the role of the `@abstractmethod` decorator in achieving polymorphism in Python? Provide an example."
   ]
  },
  {
   "cell_type": "markdown",
   "id": "15d9aee0-cfdb-4ae8-a0d9-beb4900954e9",
   "metadata": {},
   "source": [
    "The @abstractmethod decorator is used to indicate that a method must be implemented by any subclass of the class in which it is declared. This helps to ensure that all subclasses of a given class have the same functionality, and it can also be used to implement polymorphism. Polymorphism is the ability of a variable to refer to different types of objects. In Python, this is achieved by using the same method name for different types of objects. The @abstractmethod decorator can be used to ensure that when a method is called, the correct implementation is used for the type of object that is being referenced.\n",
    "For example, suppose you have a base class called Animal and two subclasses called Dog and Cat. Each of these subclasses has a method called make_noise(). The @abstractmethod decorator can be used to ensure that the make_noise() method is implemented in both Dog and Cat. This can be done by decorating the method with @abstractmethod in the Animal class.\n",
    "When the make_noise() method is called on an object of type Animal, the correct implementation will be used based on the type of object that is being referenced. For example, if the make_noise() method is called on a Dog object, the Dog implementation of the method will be used. Similarly, if the make_noise() method is called on a Cat object, the Cat implementation of the method will be used."
   ]
  },
  {
   "cell_type": "code",
   "execution_count": 28,
   "id": "f72c49c8-dc01-42f1-b786-2c7a9240b82b",
   "metadata": {},
   "outputs": [],
   "source": [
    "# 11. Create a Python class called `Shape` with a polymorphic method `area()` that calculates the area of different shapes (e.g., circle, rectangle, triangle)."
   ]
  },
  {
   "cell_type": "code",
   "execution_count": 29,
   "id": "07595901-8628-4c04-a699-061fc37003e9",
   "metadata": {},
   "outputs": [
    {
     "name": "stdout",
     "output_type": "stream",
     "text": [
      "Circle: 78.53981633974483\n",
      "Rectangle: 200\n",
      "Triangle: 150.0\n"
     ]
    }
   ],
   "source": [
    "class Shape:\n",
    "    def __init__(self, name):\n",
    "        self.name = name\n",
    "\n",
    "    def area(self):\n",
    "        raise NotImplementedError(\"area() must be implemented in subclasses\")\n",
    "\n",
    "\n",
    "class Circle(Shape):\n",
    "    def __init__(self, radius):\n",
    "        super().__init__(\"Circle\")\n",
    "        self.radius = radius\n",
    "\n",
    "    def area(self):\n",
    "        return math.pi * self.radius ** 2\n",
    "\n",
    "\n",
    "class Rectangle(Shape):\n",
    "    def __init__(self, width, height):\n",
    "        super().__init__(\"Rectangle\")\n",
    "        self.width = width\n",
    "        self.height = height\n",
    "\n",
    "    def area(self):\n",
    "        return self.width * self.height\n",
    "\n",
    "\n",
    "class Triangle(Shape):\n",
    "    def __init__(self, base, height):\n",
    "        super().__init__(\"Triangle\")\n",
    "        self.base = base\n",
    "        self.height = height\n",
    "\n",
    "    def area(self):\n",
    "        return 0.5 * self.base * self.height\n",
    "\n",
    "\n",
    "def main():\n",
    "    # Create a list of shapes\n",
    "    shapes = [Circle(5), Rectangle(10, 20), Triangle(15, 20)]\n",
    "\n",
    "    # Calculate the area of each shape and print it\n",
    "    for shape in shapes:\n",
    "        print(f\"{shape.name}: {shape.area()}\")\n",
    "\n",
    "\n",
    "if __name__ == \"__main__\":\n",
    "    main()"
   ]
  },
  {
   "cell_type": "code",
   "execution_count": 30,
   "id": "47746aee-cb9e-464b-b699-7dee9a459083",
   "metadata": {},
   "outputs": [],
   "source": [
    "# 12. Discuss the benefits of polymorphism in terms of code reusability and flexibility in Python programs."
   ]
  },
  {
   "cell_type": "markdown",
   "id": "f7c8336c-3717-4430-88fb-59796b1c95ee",
   "metadata": {},
   "source": [
    "Polymorphism is one of the key features of object-oriented programming (OOP) that allows for code to be reused and extended more easily. It is a programming technique that allows objects of different classes to be treated as if they were the same type of object. This is achieved by using a common interface or superclass to interact with the different derived classes.\n",
    "Polymorphism offers a number of benefits for Python programmers, including:\n",
    "Code reusability:\n",
    "Polymorphism allows for code to be reused more easily by creating classes that share common methods and properties. This reduces the amount of code that needs to be written and simplifies maintenance. For example, if you have a class called Animal that has a method called speak(), you could create a subclass called Dog that inherits from Animal and overrides the speak() method to make it bark. This would allow you to use the speak() method on both Animal and Dog objects, even though they are different classes.\n",
    "Flexibility:\n",
    "Polymorphism provides flexibility in code design and enables you to create code that is easier to modify and extend. For example, if you need to add a new feature to your program, you can do so without having to modify any of the existing code. This is because polymorphism allows you to create new classes that inherit from existing classes.\n",
    "Extensibility:\n",
    "Polymorphism makes it easier to extend existing code by allowing developers to modify the behavior of existing functions and objects without modifying the original code. This is because polymorphism allows you to create new classes that inherit from existing classes. For example, if you need to add a new method to a class, you can do so without having to modify the existing code. This is because polymorphism allows you to create a new subclass that inherits from the existing class and overrides the method that you want to change.\n",
    "Readability:\n",
    "Polymorphism can make code more readable by allowing developers to use a common interface to interact with different objects. This is because polymorphism allows developers to treat objects of different classes as if they were the same type of object."
   ]
  },
  {
   "cell_type": "code",
   "execution_count": 32,
   "id": "eeac1780-b50c-4a75-a64d-5a6d60293651",
   "metadata": {},
   "outputs": [],
   "source": [
    "# 13. Explain the use of the `super()` function in Python polymorphism. How does it help call methods of parent classes?"
   ]
  },
  {
   "cell_type": "markdown",
   "id": "52179534-98a9-495a-ac92-930092bb1238",
   "metadata": {},
   "source": [
    "The super() function in Python is used to call methods of parent classes from within a subclass. This allows you to extend and customize the functionality inherited from the parent class.\n",
    "The super() function returns a temporary object of the superclass that allows access to all of its methods. This means that you can use super() to call any method defined in the parent class, even if it has been overridden in the subclass.\n",
    "For example, let's say you have a parent class called Animal and a subclass called Dog. The Animal class has a method called make_noise() that makes a generic noise. The Dog class overrides this method to make a specific noise, such as barking.\n",
    "\n",
    "class Dog(Animal):\n",
    "    def make_noise(self):\n",
    "        super(Dog, Mammal).make_noise()\n",
    "        print(\"Woof!\")"
   ]
  },
  {
   "cell_type": "code",
   "execution_count": 33,
   "id": "63d7591e-c39c-4d1a-950b-497ce61432e3",
   "metadata": {},
   "outputs": [],
   "source": [
    "#15. Describe the concept of operator overloading in Python and how it relates to polymorphism. Provide examples using operators like `+` and `*`."
   ]
  },
  {
   "cell_type": "markdown",
   "id": "51f86724-94f0-4d4a-8e54-fcdc9921ecf7",
   "metadata": {},
   "source": [
    "Operator overloading in Python is a feature that allows you to use the same operator for different types of objects. For example, the \"+\" operator can be used to add two integers, concatenate two strings, or merge two lists. This is done by defining special methods in your class that correspond to the operators you want to overload. For example, if you want to overload the \"+\" operator to add two objects of your class, you would need to define a method called \"__add__()\".\n",
    "Polymorphism is a feature in Python that allows you to use the same name for different methods. This is done by using the \"super()\" keyword to call the method in the parent class. For example, if you have a class called \"Animal\" and a class called \"Dog\" that inherits from \"Animal\", you could have a method called \"speak()\" in both classes. When you call the \"speak()\" method on an object of the \"Dog\" class, it will call the \"speak()\" method in the \"Dog\" class, even though the method is named the same.\n",
    "Operator overloading and polymorphism are often used together to create more flexible and powerful code. For example, you could use operator overloading to add two objects of different classes, and then use polymorphism to call the appropriate method for the type of object that you are working with."
   ]
  },
  {
   "cell_type": "code",
   "execution_count": 34,
   "id": "11af66ae-b6a7-4a4d-a407-ab6352c7de4a",
   "metadata": {},
   "outputs": [],
   "source": [
    "# 16. What is dynamic polymorphism, and how is it achieved in Python?"
   ]
  },
  {
   "cell_type": "markdown",
   "id": "109d79e5-647c-4157-b6df-825fcf33d647",
   "metadata": {},
   "source": [
    "Dynamic polymorphism is a feature of object-oriented programming that allows for different types of objects to be treated in a similar way. This is achieved by using a single method name to refer to different methods that are implemented in different classes.\n",
    "In Python, dynamic polymorphism is achieved through the use of method overloading and method overriding. Method overloading allows for methods with the same name to be defined in different classes, while method overriding allows for a method in a child class to override a method with the same name in a parent class."
   ]
  },
  {
   "cell_type": "code",
   "execution_count": 35,
   "id": "f200c883-70de-496d-b050-4afec72e5397",
   "metadata": {},
   "outputs": [],
   "source": [
    "# 18. Discuss the concept of function pointers and how they can be used to achieve polymorphism in Python."
   ]
  },
  {
   "cell_type": "markdown",
   "id": "e1d39d4b-52df-46b4-8ae5-c103b5725b80",
   "metadata": {},
   "source": [
    "In computer programming, a function pointer is a variable that holds the address of a function. Function pointers are used to pass functions as arguments to other functions, or to return functions from other functions. They can also be used to implement polymorphism, which is the ability of a single object to take on multiple forms."
   ]
  },
  {
   "cell_type": "code",
   "execution_count": 36,
   "id": "2b0c57b7-cee4-4ccf-89e6-6c58ff313fd0",
   "metadata": {},
   "outputs": [],
   "source": [
    "# 20. Create a Python class for a zoo simulation, demonstrating polymorphism with different"
   ]
  },
  {
   "cell_type": "code",
   "execution_count": 37,
   "id": "999a5ded-d395-4a89-865c-c2c7ba8a79e3",
   "metadata": {},
   "outputs": [
    {
     "name": "stdout",
     "output_type": "stream",
     "text": [
      "Fido makes a sound: Woof!\n",
      "Mittens makes a sound: Meow!\n",
      "Leo makes a sound: Roar!\n",
      "George makes a sound: Neck-stretch!\n"
     ]
    }
   ],
   "source": [
    "class Animal:\n",
    "    def __init__(self, name):\n",
    "        self.name = name\n",
    "\n",
    "    def make_sound(self):\n",
    "        raise NotImplementedError\n",
    "\n",
    "class Dog(Animal):\n",
    "    def make_sound(self):\n",
    "        return \"Woof!\"\n",
    "\n",
    "class Cat(Animal):\n",
    "    def make_sound(self):\n",
    "        return \"Meow!\"\n",
    "\n",
    "class Lion(Animal):\n",
    "    def make_sound(self):\n",
    "        return \"Roar!\"\n",
    "\n",
    "class Giraffe(Animal):\n",
    "    def make_sound(self):\n",
    "        return \"Neck-stretch!\"\n",
    "\n",
    "def make_all_animals_make_sounds(animals):\n",
    "    for animal in animals:\n",
    "        print(animal.name, \"makes a sound:\", animal.make_sound())\n",
    "\n",
    "if __name__ == \"__main__\":\n",
    "    animals = [Dog(\"Fido\"), Cat(\"Mittens\"), Lion(\"Leo\"), Giraffe(\"George\")]\n",
    "    make_all_animals_make_sounds(animals)"
   ]
  },
  {
   "cell_type": "code",
   "execution_count": 67,
   "id": "ac4df423-6b29-49ad-91dd-ecba0ad721ac",
   "metadata": {},
   "outputs": [],
   "source": [
    "# 1. Explain the concept of composition in Python and how it is used to build complex objects from simpler ones."
   ]
  },
  {
   "cell_type": "markdown",
   "id": "08160795-2424-47d8-935f-1fa9daacce43",
   "metadata": {},
   "source": [
    "Composition is a design pattern that allows you to create complex objects by combining simpler ones. It is a \"has-a\" relationship, where one class contains an instance of another class. For example, a car \"has-a\" engine, so in this case, the Car class would have an instance of the Engine class.\n",
    "To use composition in Python, you can use the import statement to import the class you want to use. Then, you can create an instance of that class and assign it to a variable. For example, the following code imports the Engine class and creates an instance of it called engine:"
   ]
  },
  {
   "cell_type": "code",
   "execution_count": 68,
   "id": "6d83c6f6-88b2-4cc3-9770-9f70f7cf0314",
   "metadata": {},
   "outputs": [],
   "source": [
    "# 2. Describe the difference between composition and inheritance in object-oriented programming."
   ]
  },
  {
   "cell_type": "markdown",
   "id": "eab33724-7421-4c03-b467-0606969b0474",
   "metadata": {},
   "source": [
    "Composition\n",
    "Inheritance\n",
    "Creates a new object by combining objects of different classes\n",
    "Creates a new class from an existing class by inheriting its properties and behaviors\n",
    "Involves a \"has-a\" relationship between objects\n",
    "Involves an \"is-a\" relationship between classes\n",
    "Can be used to create more complex objects without tightly coupling them together\n",
    "Can be used to reuse code and functionality, but can also lead to tight coupling between classes\n",
    "Can be used to implement the \"has-a\" relationship between objects in a more flexible and decoupled way\n",
    "Can be used to implement the \"is-a\" relationship between classes in a more tightly coupled way"
   ]
  },
  {
   "cell_type": "code",
   "execution_count": 69,
   "id": "91c18123-c7a5-45ff-8406-5a1f76ebc188",
   "metadata": {},
   "outputs": [],
   "source": [
    "# 3. Create a Python class called `Author` with attributes for name and birthdate. Then, create a `Book` class that contains an instance of `Author` as a composition. Provide an example of creating a `Book` object."
   ]
  },
  {
   "cell_type": "code",
   "execution_count": 70,
   "id": "7133be09-c8c4-4a27-b65d-abd0da70ea8a",
   "metadata": {},
   "outputs": [
    {
     "name": "stdout",
     "output_type": "stream",
     "text": [
      "The Great Gatsby John Doe\n"
     ]
    }
   ],
   "source": [
    "class Author:\n",
    "    def __init__(self, name, birthdate):\n",
    "        self.name = name\n",
    "        self.birthdate = birthdate\n",
    "\n",
    "\n",
    "class Book:\n",
    "    def __init__(self, title, author):\n",
    "        self.title = title\n",
    "        self.author = author\n",
    "\n",
    "\n",
    "def main():\n",
    "    # Create an instance of `Author`\n",
    "    author = Author(\"John Doe\", \"1970-01-01\")\n",
    "\n",
    "    # Create an instance of `Book`\n",
    "    book = Book(\"The Great Gatsby\", author)\n",
    "\n",
    "    # Print the book's title and author's name\n",
    "    print(book.title, book.author.name)\n",
    "\n",
    "\n",
    "if __name__ == \"__main__\":\n",
    "    main()"
   ]
  },
  {
   "cell_type": "code",
   "execution_count": 71,
   "id": "1c64486d-9ed6-4d67-9dd6-728bf20c62b0",
   "metadata": {},
   "outputs": [],
   "source": [
    "# 4. Discuss the benefits of using composition over inheritance in Python, especially in terms of code flexibility and reusability."
   ]
  },
  {
   "cell_type": "markdown",
   "id": "802eea3a-790e-433b-b6b0-66651a079078",
   "metadata": {},
   "source": [
    "Flexibility:\n",
    "Composition allows you to create more flexible and adaptable code. This is because it allows you to change the behavior of your code by changing the components that it is made up of, without having to change the code itself. Inheritance, on the other hand, is more rigid and does not allow you to change the behavior of your code in this way.\n",
    "Reusability:\n",
    "Composition also allows you to create more reusable code. This is because it allows you to use the same components in different contexts, without having to recreate them each time. Inheritance, on the other hand, is less reusable because it requires you to subclass from an existing class, which can limit the flexibility of your code.\n",
    "Reduced coupling:\n",
    "Composition can help to reduce coupling in your code. This is because it allows you to decouple your code from the implementation details of the components that it uses. Inheritance, on the other hand, can increase coupling because it requires you to subclass from an existing class, which can tie your code to the implementation details of that class.\n",
    "Improved maintainability:\n",
    "Composition can help to improve the maintainability of your code. This is because it allows you to keep your code modular and easy to understand. Inheritance, on the other hand, can make your code more complex and difficult to understand.\n",
    "Increased testability:\n",
    "Composition can help to increase the testability of your code. This is because it allows you to test your code in isolation from the components that it uses. Inheritance, on the other hand, can make your code more difficult to test because it requires you to test your code in conjunction with the implementation details of the class that it subclasses from."
   ]
  },
  {
   "cell_type": "code",
   "execution_count": 72,
   "id": "9fc04e21-b959-475f-952d-f677183e43c6",
   "metadata": {},
   "outputs": [],
   "source": [
    "# 5. How can you implement composition in Python classes? Provide examples of using composition to create complex objects."
   ]
  },
  {
   "cell_type": "markdown",
   "id": "4ff1ec64-7e0d-40cc-a388-71f82274c799",
   "metadata": {},
   "source": [
    "class ParentClass:\n",
    "\n",
    "    def __init__(self):\n",
    "        self.name = \"Parent\"\n",
    "\n",
    "class ChildClass:\n",
    "\n",
    "    def __init__(self):\n",
    "        self.name = \"Child\"\n",
    "\n",
    "def main():\n",
    "    parent_object = ParentClass()\n",
    "    child_object = ChildClass()\n",
    "\n",
    "    if hasattr(parent_object, \"child\"):\n",
    "        parent_object.child = child_object\n",
    "\n",
    "    print(parent_object.child.name)\n",
    "\n",
    "if __name__ == \"__main__\":\n",
    "    main()"
   ]
  },
  {
   "cell_type": "code",
   "execution_count": 73,
   "id": "e64a2b12-8336-4c23-b7d4-2c98a7d8135b",
   "metadata": {},
   "outputs": [],
   "source": [
    "# 6. Create a Python class hierarchy for a music player system, using composition to represent playlists and songs."
   ]
  },
  {
   "cell_type": "markdown",
   "id": "0d90a2e8-7212-43ff-b536-be7b83ec33a0",
   "metadata": {},
   "source": [
    "class Playlist(object):\n",
    "    def __init__(self, name):\n",
    "        self.name = name\n",
    "        self.songs = []\n",
    "\n",
    "    def add_song(self, song):\n",
    "        self.songs.append(song)\n",
    "\n",
    "    def remove_song(self, song):\n",
    "        self.songs.remove(song)\n",
    "\n",
    "    def play(self):\n",
    "        for song in self.songs:\n",
    "            song.play()\n",
    "\n",
    "    def pause(self):\n",
    "        for song in self.songs:\n",
    "            song.pause()\n",
    "\n",
    "    def stop(self):\n",
    "        for song in self.songs:\n",
    "            song.stop()\n",
    "\n",
    "\n",
    "class Song(object):\n",
    "    def __init__(self, title, artist, album):\n",
    "        self.title = title\n",
    "        self.artist = artist\n",
    "        self.album = album\n",
    "\n",
    "    def play(self):\n",
    "        print(\"Playing song '%s' by %s from the album '%s'\" % (self.title, self.artist, self.album))\n",
    "\n",
    "    def pause(self):\n",
    "        print(\"Pausing song '%s' by %s from the album '%s'\" % (self.title, self.artist, self.album))\n",
    "\n",
    "    def stop(self):\n",
    "        print(\"Stopping song '%s' by %s from the album '%s'\" % (self.title, self.artist, self.album))\n",
    "\n",
    "\n",
    "class MusicPlayer(object):\n",
    "    def __init__(self):\n",
    "        self.playlists = []\n",
    "        self.current_playlist = None\n",
    "\n",
    "    def add_playlist(self, playlist):\n",
    "        self.playlists.append(playlist)\n",
    "\n",
    "    def remove_playlist(self, playlist):\n",
    "        self.playlists.remove(playlist)\n",
    "\n",
    "    def set_current_playlist(self, playlist):\n",
    "        self.current_playlist = playlist\n",
    "\n",
    "    def play(self):\n",
    "        if self.current_playlist is None:\n",
    "            return\n",
    "\n",
    "        self.current_playlist.play()\n",
    "\n",
    "    def pause(self):\n",
    "        if self.current_playlist is None:\n",
    "            return\n",
    "\n",
    "        self.current_playlist.pause()\n",
    "\n",
    "    def stop(self):\n",
    "        if self.current_playlist is None:\n",
    "            return\n",
    "\n",
    "        self.current_playlist.stop()\n",
    "\n",
    "\n",
    "if __name__ == \"__main__\":\n",
    "    # Create a music player\n",
    "    music_player = MusicPlayer()\n",
    "\n",
    "    # Create some playlists\n",
    "    playlist1 = Playlist(\"My Playlist\")\n",
    "    playlist2 = Playlist(\"Your Playlist\")\n",
    "\n",
    "    # Add some songs to the playlists\n",
    "    playlist1.add_song(Song(\"Song 1\", \"Artist 1\", \"Album 1\"))\n",
    "    playlist1.add_song(Song(\"Song 2\", \"Artist 2\", \"Album 2\"))\n",
    "    playlist2.add_song(Song(\"Song 3\", \"Artist 3\", \"Album 3\"))\n",
    "    playlist2.add_song(Song(\"Song 4\", \"Artist 4\", \"Album 4\"))"
   ]
  },
  {
   "cell_type": "code",
   "execution_count": 74,
   "id": "cd55cee1-c34d-4ea4-9e48-135027389caa",
   "metadata": {},
   "outputs": [],
   "source": [
    "# 7. Explain the concept of \"has-a\" relationships in composition and how it helps design software systems. "
   ]
  },
  {
   "cell_type": "markdown",
   "id": "3de33a08-d3bc-4857-af4a-58480ab78ce0",
   "metadata": {},
   "source": [
    "The \"has-a\" relationship in composition is a way of creating complex objects by combining smaller objects. This is done by having one object, called the composite object, contain a reference to another object, called the component object. The composite object can then use the component object's methods and properties to perform its own tasks.\n",
    "For example, a car might have a \"has-a\" relationship with an engine. The car is the composite object, and the engine is the component object. The car can use the engine's methods to start itself, accelerate, and decelerate.\n",
    "Composition is a powerful tool that can be used to create complex and flexible software systems. It can help to reduce code duplication and make it easier to maintain and update software systems.\n",
    "Here is an example of how composition can be used to create a software system for managing a pet store:\n",
    "```python class PetStore: def __init__(self): self.pets = [] def add_pet(self, pet): self.pets.append(pet) def get_pets(self): return self.pets class Pet: def __init__(self, name, species): self.name = name self.species = species def get_name(self): return self.name def get_species(self): return self.species This code creates a PetStore class that can store a list of pets. The PetStore class has an add_pet() method that can be used to add a new pet to the list, and a get_pets() method that can be used to get a list of all the pets in the store. The Pet class represents a single pet. It has a name and a species, and it has methods for getting its name and species. This code can be used to create a pet store that can store a list of pets. The pet store can be used to add new pets, and to get a list of all the pets in the store. Composition is a powerful tool that can be used to create complex and flexible software systems. It can help to reduce code duplication and make it easier to maintain and update software systems."
   ]
  },
  {
   "cell_type": "code",
   "execution_count": 75,
   "id": "ccccb492-d9fb-4415-9f9e-a948b1389e1a",
   "metadata": {},
   "outputs": [],
   "source": [
    "# 8. Create a Python class for a computer system, using composition to represent components like CPU, RAM, and storage devices.\n"
   ]
  },
  {
   "cell_type": "markdown",
   "id": "a3970bdc-23c8-4150-81b0-0b332db7fbe2",
   "metadata": {},
   "source": [
    "class ComputerSystem:\n",
    "    def __init__(self, cpu, ram, storage):\n",
    "        self.cpu = cpu\n",
    "        self.ram = ram\n",
    "        self.storage = storage\n",
    "\n",
    "    def __repr__(self):\n",
    "        return f\"ComputerSystem(cpu={self.cpu}, ram={self.ram}, storage={self.storage})\"\n",
    "\n",
    "\n",
    "cpu = CPU(\"Intel Core i7-12700K\")\n",
    "ram = RAM(\"16GB\")\n",
    "storage = Storage(\"1TB SSD\")\n",
    "\n",
    "computer_system = ComputerSystem(cpu, ram, storage)\n",
    "\n",
    "print(computer_system)"
   ]
  },
  {
   "cell_type": "code",
   "execution_count": 76,
   "id": "0803182c-b962-44ec-b78c-3d0a4c500cfe",
   "metadata": {},
   "outputs": [],
   "source": [
    "# 9. Describe the concept of \"delegation\" in composition and how it simplifies the design of complex systems."
   ]
  },
  {
   "cell_type": "markdown",
   "id": "a5685b5f-95cb-4acc-bb5c-2bdc7aafe0e6",
   "metadata": {},
   "source": [
    "Delegation is a design pattern that allows you to pass responsibility from one object to another. This can be useful when you want to avoid duplicating code or when you want to make your code more flexible.\n",
    "For example, let's say you have a class called Car that has a method called drive. This method takes a direction as input and moves the car in that direction. Now, let's say you want to create a class called Truck that inherits from Car. You could override the drive method in Truck to make it move the truck in a different way. However, this would be duplicating code.\n",
    "Instead, you could use delegation. You could create a new class called Driver that has a method called drive. This method would take a direction as input and move the vehicle in that direction. Then, you could set the driver property of Truck to an instance of Driver. When you call the drive method on Truck, it would actually call the drive method on the driver object.\n",
    "This would allow you to reuse the code in Driver for both Car and Truck. It would also make your code more flexible, because you could easily change the behavior of Truck by changing the driver object.\n",
    "Delegation can be used to simplify the design of complex systems by allowing you to reuse code and make your code more flexible. It is a powerful design pattern that can be used in a variety of situations."
   ]
  },
  {
   "cell_type": "code",
   "execution_count": 77,
   "id": "ec42d38c-065d-477d-b6a4-0d5d2fe11d1f",
   "metadata": {},
   "outputs": [],
   "source": [
    "# 10. Create a Python class for a car, using composition to represent components like the engine, wheels, and transmission."
   ]
  },
  {
   "cell_type": "code",
   "execution_count": 78,
   "id": "ce66d0bd-84f7-4bf3-94ca-80074a53752d",
   "metadata": {},
   "outputs": [],
   "source": [
    "class Car:\n",
    "\n",
    "    def __init__(self, engine, wheels, transmission):\n",
    "        self.engine = engine\n",
    "        self.wheels = wheels\n",
    "        self.transmission = transmission\n",
    "\n",
    "    def drive(self):\n",
    "        self.engine.start()\n",
    "        self.wheels.turn()\n",
    "        self.transmission.shift_gear()"
   ]
  },
  {
   "cell_type": "code",
   "execution_count": 79,
   "id": "d140fb1a-6c56-4561-b140-0f94389058b8",
   "metadata": {},
   "outputs": [],
   "source": [
    "# 11. How can you encapsulate and hide the details of composed objects in Python classes to maintain abstraction?"
   ]
  },
  {
   "cell_type": "markdown",
   "id": "a109a34b-bb81-426c-bbdf-7cca7919cfa8",
   "metadata": {},
   "source": [
    "Encapsulation is one of the key concepts in Object-Oriented Programming. It refers to the bundling of data and functionality together into a single unit, called a class.\n",
    "In Python, encapsulation can be achieved by using private and protected access modifiers. Private variables and methods can only be accessed from within the class, while protected variables and methods can be accessed from within the class and its subclasses.\n",
    "To encapsulate and hide the details of composed objects in Python classes, you can use the private and protected access modifiers. For example, if you have a class called Car that has a Engine object as a member, you can make the Engine object private by using the single underscore _ before its name. This will make the Engine object inaccessible from outside the Car class.\n",
    "You can also use the protected access modifier to make the Engine object accessible from within the Car class and its subclasses. This is useful if you need to access the Engine object from within a subclass of Car.\n",
    "To maintain abstraction, you can use encapsulation to hide the details of composed objects from users of your class. This will make your class more reusable and easier to understand."
   ]
  },
  {
   "cell_type": "code",
   "execution_count": 80,
   "id": "bc6734a9-4eb6-495d-83d1-5f5459ff8726",
   "metadata": {},
   "outputs": [],
   "source": [
    "# 13. Discuss the challenges and drawbacks of composition, such as increased complexity and potential for tight coupling between objects."
   ]
  },
  {
   "cell_type": "markdown",
   "id": "4cd20e90-2083-49ed-9e5a-9345bd6e6a8d",
   "metadata": {},
   "source": [
    "The challenges and drawbacks of composition, such as increased complexity and potential for tight coupling between objects, can be significant.\n",
    "One of the biggest challenges with composition is that it can lead to increased complexity in code. When you are composing objects, you are essentially creating a new object that is made up of multiple smaller objects. This can make it difficult to track down errors and bugs, as well as to make changes to the code.\n",
    "Another challenge with composition is that it can lead to tight coupling between objects. When you tightly couple objects, you are making them dependent on each other. This can make it difficult to change or remove one object without affecting the others.\n",
    "Finally, composition can also lead to problems with performance. When you create a new object by composing multiple smaller objects, you are essentially creating a new object that is made up of multiple smaller objects. This can lead to performance problems, as the new object will have to take into account the performance of all of the smaller objects that it is made up of.\n",
    "There are a number of ways to mitigate the challenges and drawbacks of composition. One way is to use loose coupling instead of tight coupling. Loose coupling means that objects are not dependent on each other, and can be changed or removed without affecting the others. This can help to improve the flexibility and scalability of your code.\n",
    "Another way to mitigate the challenges and drawbacks of composition is to use a composition framework. A composition framework is a set of tools and techniques that can help you to create and manage compositions. A composition framework can help you to reduce the complexity of your code, improve the performance of your code, and make it easier to change and remove objects.\n",
    "Composition is a powerful technique that can be used to create complex and flexible objects. However, it is important to be aware of the challenges and drawbacks of composition before you use it. By using loose coupling and a composition framework, you can help to mitigate these challenges and drawbacks and create code that is more flexible, scalable, and performant."
   ]
  },
  {
   "cell_type": "code",
   "execution_count": 81,
   "id": "ce842dc4-4299-4a41-985f-64c1c570939c",
   "metadata": {},
   "outputs": [],
   "source": [
    "# 14. Create a Python class hierarchy for a restaurant system, using composition to represent menus, dishes, and ingredients."
   ]
  },
  {
   "cell_type": "markdown",
   "id": "6fa29371-9bfd-4865-9ddc-fb2f82cf7bac",
   "metadata": {},
   "source": [
    "\n",
    "\n",
    "    def __init__(self, name):\n",
    "        self.name = name\n",
    "        self.dishes = []\n",
    "\n",
    "    def add_dish(self, dish):\n",
    "        self.dishes.append(dish)\n",
    "\n",
    "    def get_dishes(self):\n",
    "        return self.dishes\n",
    "\n",
    "\n",
    "class Dish(object):\n",
    "    def __init__(self, name, ingredients):\n",
    "        self.name = name\n",
    "        self.ingredients = ingredients\n",
    "\n",
    "    def get_ingredients(self):\n",
    "        return self.ingredients\n",
    "\n",
    "\n",
    "class Ingredient(object):\n",
    "    def __init__(self, name):\n",
    "        self.name = name\n",
    "\n",
    "\n",
    "class MenuItem(object):\n",
    "    def __init__(self, menu, dish, price):\n",
    "        self.menu = menu\n",
    "        self.dish = dish\n",
    "        self.price = price\n",
    "\n",
    "    def get_menu(self):\n",
    "        return self.menu\n",
    "\n",
    "    def get_dish(self):\n",
    "        return self.dish\n",
    "\n",
    "    def get_price(self):\n",
    "\n",
    "\n",
    "class Restaurant(object):\n",
    "    def __init__(self, name, menus):\n",
    "        self.name = name\n",
    "        self.menus = menus\n",
    "\n",
    "    def get_menus(self):\n",
    "        return self.menus\n",
    "\n",
    "    def add_menu(self, menu):\n",
    "        self.menus.append(menu)\n",
    "\n",
    "    def get_menu_by_name(self, name):\n",
    "        for menu in self.menus:\n",
    "            if menu.name == name:\n",
    "                return menu\n",
    "        return None\n",
    "\n",
    "    def create_menu_item(self, menu, dish, price):\n",
    "        return MenuItem(menu, dish, price)\n",
    "\n",
    "\n",
    "if __name__ == \"__main__\":\n",
    "    # Create a restaurant\n",
    "    restaurant = Restaurant(\"The Cheesecake Factory\", [])\n",
    "\n",
    "    # Create a menu\n",
    "    menu = Menu(\"Main Menu\")\n",
    "\n",
    "    # Create dishes\n",
    "    dish1 = Dish(\"Cheesecake\", [Ingredient(\"cream cheese\"), Ingredient(\"sugar\"), Ingredient(\"crackers\")])\n",
    "    dish2 = Dish(\"Chocolate Lava Cake\", [Ingredient(\"chocolate\"), Ingredient(\"cake batter\"), Ingredient(\"lava sauce\")])\n",
    "\n",
    "    # Add dishes to the menu\n",
    "    menu.add_dish(dish1)\n",
    "    menu.add_dish(dish2)\n",
    "\n",
    "    # Add the menu to the restaurant\n",
    "    restaurant.add_menu(menu)\n",
    "\n",
    "    # Create a menu item\n",
    "    menu_item = restaurant.create_menu_item(menu, dish1, 14.99)\n",
    "\n",
    "    # Print the menu item\n",
    "    print(menu_item.get_menu().name, menu_item.get_dish().name, menu_item.get_price())"
   ]
  },
  {
   "cell_type": "code",
   "execution_count": 82,
   "id": "572a223f-8b19-46f8-a958-e5602a50436f",
   "metadata": {},
   "outputs": [],
   "source": [
    "# 15. Explain how composition enhances code maintainability and modularity in Python programs."
   ]
  },
  {
   "cell_type": "markdown",
   "id": "cccf0718-f646-4fa1-922a-b3cf753c422c",
   "metadata": {},
   "source": [
    "Composition is a powerful technique in object-oriented programming that allows you to create complex objects by combining simpler objects. This can be done by creating a class that has-a relationship with another class. For example, you could create a Car class that has-a Engine class. This would allow you to create cars with different types of engines, without having to create a new class for each type of engine.\n",
    "Composition can enhance the maintainability of your Python programs by making it easier to understand and update your code. When you use composition, you are essentially creating a self-contained unit of functionality that can be easily reused and maintained. This can make it much easier to track down bugs and make changes to your code, as you will not have to worry about how the different parts of your code interact with each other.\n",
    "Composition can also enhance the modularity of your Python programs by allowing you to break your code down into smaller, more manageable units. This can make it much easier to understand and maintain your code, as you will be able to focus on one unit of functionality at a time. Additionally, composition can help you to improve the reusability of your code, as you will be able to easily reuse the components of your composite objects in other parts of your code.\n",
    "Overall, composition is a powerful technique that can help you to improve the maintainability and modularity of your Python programs. By using composition, you can create self-contained units of functionality that are easy to understand, update, and reuse. This can make it much easier to work with your code and can help you to improve the quality of your software.\n",
    "Here are some additional benefits of using composition in Python programs:\n",
    "It can help to reduce code duplication.\n",
    "It can make code more flexible and extensible.\n",
    "It can help to improve code readability and maintainability.\n",
    "It can help to improve code performance.\n",
    "If you are looking for ways to improve the quality of your Python programs, consider using composition. It is a powerful technique that can help you to make your code more maintainable, modular, reusable, flexible, and extensible.\n",
    "Ask a follow up\n"
   ]
  },
  {
   "cell_type": "code",
   "execution_count": 83,
   "id": "e1cba145-cfff-4214-a2ac-c4241c02428b",
   "metadata": {},
   "outputs": [],
   "source": [
    "# 16. Create a Python class for a computer game character, using composition to represent attributes like weapons, armor, and inventory."
   ]
  },
  {
   "cell_type": "markdown",
   "id": "eeef0854-55da-4abb-aa0b-1d1ca4e4ff4f",
   "metadata": {},
   "source": [
    "class Character:\n",
    "\n",
    "    def __init__(self, name, race, class, level, health, mana, strength, dexterity, intelligence, wisdom, charisma):\n",
    "        self.name = name\n",
    "        self.race = race\n",
    "        self.class = class\n",
    "        self.level = level\n",
    "        self.health = health\n",
    "        self.mana = mana\n",
    "        self.strength = strength\n",
    "        self.dexterity = dexterity\n",
    "        self.intelligence = intelligence\n",
    "        self.wisdom = wisdom\n",
    "        self.charisma = charisma\n",
    "        self.inventory = []\n",
    "        self.weapons = []\n",
    "        self.armor = []\n",
    "\n",
    "    def add_item_to_inventory(self, item):\n",
    "        self.inventory.append(item)\n",
    "\n",
    "    def add_weapon_to_inventory(self, weapon):\n",
    "        self.weapons.append(weapon)\n",
    "\n",
    "    def add_armor_to_inventory(self, armor):\n",
    "        self.armor.append(armor)\n",
    "\n",
    "    def get_equipped_weapon(self):\n",
    "        return self.weapons[0]\n",
    "\n",
    "    def get_equipped_armor(self):\n",
    "        return self.armor[0]\n",
    "\n",
    "    def attack(self, enemy):\n",
    "        damage = self.strength + self.weapon.damage\n",
    "        enemy.health -= damage\n",
    "\n",
    "    def defend(self, enemy):\n",
    "        damage = enemy.strength + enemy.weapon.damage\n",
    "        self.health -= damage\n",
    "\n",
    "    def die(self):\n",
    "        print(\"The character {} has died.\".format(self.name))"
   ]
  },
  {
   "cell_type": "code",
   "execution_count": 84,
   "id": "159efa7d-72ea-4dc5-8bd4-f8688b7b96f3",
   "metadata": {},
   "outputs": [],
   "source": [
    "# 17. Describe the concept of \"aggregation\" in composition and how it differs from simple composition."
   ]
  },
  {
   "cell_type": "markdown",
   "id": "48bd2b63-a4bc-4c75-85a3-c58924bd8b51",
   "metadata": {},
   "source": [
    "Aggregation is a relationship between two objects where one object (the \"aggregator\") contains or owns the other object (the \"aggregatee\"). The aggregatee can exist independently of the aggregator, but it is typically more useful and meaningful to consider it in the context of the aggregator.\n",
    "For example, a company might be composed of many departments, each of which can exist independently of the company. However, it is more useful to consider the departments in the context of the company, as they are part of the company and cannot exist without it.\n",
    "In UML, aggregation is represented by a dashed line with an arrowhead at the end of the line that points to the aggregator. The arrowhead indicates that the aggregator owns the aggregatee.\n",
    "Aggregation is different from simple composition in that simple composition does not imply ownership. In simple composition, the aggregatee is simply a part of the aggregator and cannot exist without it. For example, a car might be composed of many parts, such as an engine, wheels, and a body. The parts cannot exist without the car, so they are considered to be part of the car.\n",
    "In aggregation, however, the aggregatee can exist independently of the aggregator. For example, a company might be composed of many departments, but each department can exist independently of the company. The departments are not part of the company, but they are simply associated with the company.\n",
    "Aggregation is often used to represent relationships between objects that are not necessarily owned by each other. For example, a person might be associated with many different companies, but the companies do not own the person. The person is simply associated with the companies.\n",
    "Aggregation can also be used to represent relationships between objects that are owned by each other, but where the ownership is not exclusive. For example, a company might own many different departments, but each department can also be owned by another company. In this case, the departments are owned by both companies, but they are not exclusively owned by either company."
   ]
  },
  {
   "cell_type": "code",
   "execution_count": 85,
   "id": "8614431b-0c4f-400b-bcfe-3fbb15378676",
   "metadata": {},
   "outputs": [],
   "source": [
    "# 20.How can you achieve flexibility in composed objects by allowing them to be replaced or modified dynamically at runtime?."
   ]
  },
  {
   "cell_type": "markdown",
   "id": "d413dd29-d0b3-4656-b03f-c2e8b4b2bfa7",
   "metadata": {},
   "source": [
    "Dynamic typing\n",
    "Create objects with properties and methods that are determined at runtime. This way, you can change the structure and behavior of the system at runtime, without recompiling or redeploying the code.\n",
    "Composition\n",
    "Replace the implementation of a composed class with a better and improved version. You can also change the member objects at run time, to dynamically change the behavior of your program.\n",
    "Decorator pattern\n",
    "In object-oriented programming, the decorator pattern is a design pattern that allows behavior to be added to an individual object, dynamically, without affecting the behavior of other objects from the same class.\n",
    "Multilevel inheritance\n",
    "Allows any number of levels of inheritance. This is the maximum flexibility feature to make the members available to all the new classes and to add their own functionalities."
   ]
  },
  {
   "cell_type": "code",
   "execution_count": null,
   "id": "8e3d9cb5-d444-4e7a-afea-5ac165cfd217",
   "metadata": {},
   "outputs": [],
   "source": []
  },
  {
   "cell_type": "code",
   "execution_count": null,
   "id": "39db9a91-fd02-438d-ab53-2f8d7b01c075",
   "metadata": {},
   "outputs": [],
   "source": []
  },
  {
   "cell_type": "code",
   "execution_count": null,
   "id": "383dbf2d-2aa8-452a-8488-b7b75d09b749",
   "metadata": {},
   "outputs": [],
   "source": []
  }
 ],
 "metadata": {
  "kernelspec": {
   "display_name": "Python 3 (ipykernel)",
   "language": "python",
   "name": "python3"
  },
  "language_info": {
   "codemirror_mode": {
    "name": "ipython",
    "version": 3
   },
   "file_extension": ".py",
   "mimetype": "text/x-python",
   "name": "python",
   "nbconvert_exporter": "python",
   "pygments_lexer": "ipython3",
   "version": "3.10.8"
  }
 },
 "nbformat": 4,
 "nbformat_minor": 5
}
